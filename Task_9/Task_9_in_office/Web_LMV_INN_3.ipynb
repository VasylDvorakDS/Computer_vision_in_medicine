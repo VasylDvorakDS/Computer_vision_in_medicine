{
  "cells": [
    {
      "cell_type": "markdown",
      "metadata": {
        "id": "j9uRd98UFzPL"
      },
      "source": [
        "# Введение в искусственные нейронные сети\n",
        "# Урок 3. TensorFlow"
      ]
    },
    {
      "cell_type": "markdown",
      "metadata": {
        "id": "k3iOZn2wFzPQ"
      },
      "source": [
        "## Содержание методического пособия:\n",
        "\n",
        "\n",
        "<ol>\n",
        "<li>Что такое TensorFlow</li>\n",
        "<li>Основы синтаксиса TensorFlow</li>\n",
        "<li>Пример нейросети на TensorFlow</li>\n",
        "</ol>"
      ]
    },
    {
      "cell_type": "markdown",
      "metadata": {
        "id": "Sx3Su3u6FzPS"
      },
      "source": [
        "## Что такое TensorFlow\n",
        "\n",
        "TensorFlow - это фреймворк для создания ML моделей. TensorFlow предназначен в первую очередь для Deep Learning, т.е. создания современных нейросетей. Однако в TensorFlow также есть поддержка некоторых классических ML алгоритмов: K-means clustering, Random Forests, Support Vector Machines, Gaussian Mixture Model clustering, Linear/logistic regression.\n",
        "\n",
        "TensorFlow выпустила компания Google в 2015. TensorFlow - это opensource проект. На данный момент это один из основных инструментов для создания нейросетей в рабочих целях. TensorFlow позволяет создавать нейронные сети как для кластеров из большого количества вычислительных устройств, так и для устройств с относительно небольшой вычислитей мощностью, таких как смартфоны и одноплатные компьютеры.\n",
        "\n",
        "TensorFlow применяется самой компанией Google для ее поиска, почты, переводчика, распознования голоса, внутренних нужд наподобие мониторинга оборудования. TensorFlow используется различными компаниями для различных проектов, связанных с компьютерным зрением, решением задач ранжирования и т.д.\n",
        "\n",
        "\n",
        "<img src=\"https://drive.google.com/uc?export=view&id=1YSzD1P42f8aEjE7V6bKcu3kc2oLsOFaY\" width=600px />"
      ]
    },
    {
      "cell_type": "markdown",
      "metadata": {
        "id": "mBqyxNwdFzPU"
      },
      "source": [
        "## Основы синтаксиса TensorFlow\n",
        "\n",
        "Процесс создания нейросети на TensorFlow схож с разобранным нами процессом обучения нейросети на Keras. Отличее здесь в том, что здесь нам нужно прописать больше деталей в коде.\n",
        "\n",
        "Особенностью TensorFlow версии 1 является то, что сначала необходимо декларировать переменные и вычисления, которые будут совершены над ними, а потом уже непосредственно запускать работу над данными.\n",
        "Tf версии 1 менее дружественный к разработчикам."
      ]
    },
    {
      "cell_type": "markdown",
      "metadata": {
        "id": "NTDIFFhhFzPW"
      },
      "source": [
        "Давайте рассмотрим базовые вещи в синтаксисе Tensorflow 2."
      ]
    },
    {
      "cell_type": "code",
      "execution_count": 1,
      "metadata": {
        "id": "A4Hcl_IoHv7n"
      },
      "outputs": [],
      "source": [
        "#!pip install tensorflow"
      ]
    },
    {
      "cell_type": "code",
      "execution_count": 2,
      "metadata": {
        "colab": {
          "base_uri": "https://localhost:8080/"
        },
        "id": "75BVCTdbFzPa",
        "outputId": "224752e1-738f-4ba7-9f22-6c894e93c397"
      },
      "outputs": [
        {
          "output_type": "stream",
          "name": "stdout",
          "text": [
            "2.18.0\n"
          ]
        }
      ],
      "source": [
        "import tensorflow as tf\n",
        "import numpy as np\n",
        "\n",
        "print(tf.__version__)"
      ]
    },
    {
      "cell_type": "code",
      "execution_count": 3,
      "metadata": {
        "colab": {
          "base_uri": "https://localhost:8080/"
        },
        "id": "CGsyoNWj6oZj",
        "outputId": "c33b8f3e-5f49-4957-9a04-d6f22cd273ed"
      },
      "outputs": [
        {
          "output_type": "execute_result",
          "data": {
            "text/plain": [
              "[]"
            ]
          },
          "metadata": {},
          "execution_count": 3
        }
      ],
      "source": [
        "tf.config.list_physical_devices('GPU')"
      ]
    },
    {
      "cell_type": "code",
      "execution_count": 4,
      "metadata": {
        "colab": {
          "base_uri": "https://localhost:8080/"
        },
        "id": "5JL0-iQ4lbIM",
        "outputId": "5920456e-380d-49ca-d47a-b0b115584a46"
      },
      "outputs": [
        {
          "output_type": "stream",
          "name": "stdout",
          "text": [
            "/bin/bash: line 1: nvidia-smi: command not found\n"
          ]
        }
      ],
      "source": [
        "!nvidia-smi"
      ]
    },
    {
      "cell_type": "markdown",
      "metadata": {
        "id": "JZzcooQUe83I"
      },
      "source": [
        "\n",
        "Название TensorFlow означает поток тензоров. Тензоры - это массивы. Данные в компьютере представлены часто в виде массивах и работа с этими массивами подразумевает их преобразования. Преобразования осуществляются через, к примеру, математические операции. Работа TensorFlow складывается из цепочки преобразований тензоров, т.е. данных. Сами операции осуществляющие преобразование данных представлены в TensorFlow в виде графов.\n",
        "\n",
        "<img src='https://drive.google.com/uc?export=view&id=1pDiSoBIL8IBpIFq3R4OKGRW3YseBRvFm'>\n",
        "\n",
        "\n",
        "Визуализизация тензора с более чем двумя осями:\n",
        "\n",
        "<img src='https://drive.google.com/uc?Export=view&id=1C6pu0iDx1Ugz2OMyE9d6KZH9IcN3-STG'>\n",
        "<img src='https://drive.google.com/uc?export=view&id=1cmVLwGNLc8fkDpmNZreTecMNCXgD6zGl'>\n",
        "<img src='https://drive.google.com/uc?export=view&id=1XiGSZVsVQrlH279eu2IK1bekSvccX6aT'>\n",
        "\n",
        "Все тензоры неизменны, как числа и строки Python: вы никогда не можете обновить содержимое тензора, только создать новый."
      ]
    },
    {
      "cell_type": "markdown",
      "metadata": {
        "id": "S4ZN0rdqFzPh"
      },
      "source": [
        "Пример создания тензора «скаляра» или «ранга 0». Скаляр содержит одно значение и не содержит «осей».\n",
        "\n"
      ]
    },
    {
      "cell_type": "code",
      "execution_count": 5,
      "metadata": {
        "colab": {
          "base_uri": "https://localhost:8080/"
        },
        "id": "ok8XBconl8yA",
        "outputId": "02f72a06-73fc-473e-9d63-ab5b4472b2b1"
      },
      "outputs": [
        {
          "output_type": "execute_result",
          "data": {
            "text/plain": [
              "<tf.Tensor: shape=(), dtype=int32, numpy=3>"
            ]
          },
          "metadata": {},
          "execution_count": 5
        }
      ],
      "source": [
        "tf.constant(3)"
      ]
    },
    {
      "cell_type": "markdown",
      "metadata": {
        "id": "POx5-AKumIq-"
      },
      "source": [
        "Тензор «вектора» или «ранга 1» подобен списку значений. Вектор имеет одну ось.\n",
        "\n"
      ]
    },
    {
      "cell_type": "code",
      "execution_count": 6,
      "metadata": {
        "colab": {
          "base_uri": "https://localhost:8080/"
        },
        "id": "Tu0MLmb8mJfW",
        "outputId": "5a1a33d5-f3dd-4b21-8108-defcdb3acd85"
      },
      "outputs": [
        {
          "output_type": "execute_result",
          "data": {
            "text/plain": [
              "<tf.Tensor: shape=(3,), dtype=float32, numpy=array([2., 3., 4.], dtype=float32)>"
            ]
          },
          "metadata": {},
          "execution_count": 6
        }
      ],
      "source": [
        "tf.constant([2.0, 3.0, 4.0])"
      ]
    },
    {
      "cell_type": "markdown",
      "metadata": {
        "id": "edImEJJ2mRVG"
      },
      "source": [
        "Тензор «матрицы» или «ранга 2» имеет две оси.\n",
        "\n"
      ]
    },
    {
      "cell_type": "code",
      "execution_count": 7,
      "metadata": {
        "colab": {
          "base_uri": "https://localhost:8080/"
        },
        "id": "VATG0L6IFzPj",
        "outputId": "6a78d8ec-c5c7-471b-aaaf-eb7c7f746bb2"
      },
      "outputs": [
        {
          "output_type": "execute_result",
          "data": {
            "text/plain": [
              "<tf.Tensor: shape=(2, 2), dtype=int32, numpy=\n",
              "array([[3, 2],\n",
              "       [5, 2]], dtype=int32)>"
            ]
          },
          "metadata": {},
          "execution_count": 7
        }
      ],
      "source": [
        "A = tf.constant([[3, 2], [5, 2]])\n",
        "\n",
        "A"
      ]
    },
    {
      "cell_type": "markdown",
      "metadata": {
        "id": "svJkkz1om4uc"
      },
      "source": [
        "Вы можете преобразовать тензор в массив NumPy либо с помощью np.array либо с tensor.numpy метода tensor.numpy."
      ]
    },
    {
      "cell_type": "code",
      "execution_count": 8,
      "metadata": {
        "colab": {
          "base_uri": "https://localhost:8080/",
          "height": 86
        },
        "id": "13w3RsEkm7wI",
        "outputId": "bc6a8f33-2a6e-4dc2-c41d-dcf49d90ef03"
      },
      "outputs": [
        {
          "output_type": "display_data",
          "data": {
            "text/plain": [
              "array([[3, 2],\n",
              "       [5, 2]], dtype=int32)"
            ]
          },
          "metadata": {}
        },
        {
          "output_type": "display_data",
          "data": {
            "text/plain": [
              "array([[3, 2],\n",
              "       [5, 2]], dtype=int32)"
            ]
          },
          "metadata": {}
        }
      ],
      "source": [
        "display(np.array(A), A.numpy())"
      ]
    },
    {
      "cell_type": "markdown",
      "metadata": {
        "id": "van47kdAFzPp"
      },
      "source": [
        "Пример сложения и поэлементного умножения тензоров."
      ]
    },
    {
      "cell_type": "code",
      "execution_count": 9,
      "metadata": {
        "colab": {
          "base_uri": "https://localhost:8080/"
        },
        "id": "wYwJYGSvFzPr",
        "outputId": "fc6c0d7d-d0e7-4282-8623-8432cb374608"
      },
      "outputs": [
        {
          "output_type": "stream",
          "name": "stdout",
          "text": [
            "tf.Tensor(\n",
            "[[12  7]\n",
            " [ 6  5]], shape=(2, 2), dtype=int32) \n",
            "\n",
            "tf.Tensor(\n",
            "[[12  7]\n",
            " [ 6  5]], shape=(2, 2), dtype=int32) \n",
            "\n",
            "tf.Tensor(\n",
            "[[27 10]\n",
            " [ 5  6]], shape=(2, 2), dtype=int32) \n",
            "\n",
            "tf.Tensor(\n",
            "[[27 10]\n",
            " [ 5  6]], shape=(2, 2), dtype=int32) \n",
            "\n",
            "[[3 2]\n",
            " [5 2]\n",
            " [9 5]\n",
            " [1 3]]\n"
          ]
        }
      ],
      "source": [
        "B = tf.constant([[9, 5],\n",
        "                 [1, 3]])\n",
        "\n",
        "\n",
        "print(tf.add(A, B), \"\\n\")\n",
        "print(A + B, \"\\n\")\n",
        "\n",
        "\n",
        "print(tf.multiply(A, B), \"\\n\")\n",
        "print(A * B, \"\\n\")\n",
        "\n",
        "\n",
        "AB = tf.concat(values=[A, B], axis=0)\n",
        "print(AB.numpy())"
      ]
    },
    {
      "cell_type": "markdown",
      "metadata": {
        "id": "XTfjbLKLFzPx"
      },
      "source": [
        "Пример изменения размерности тензора."
      ]
    },
    {
      "cell_type": "code",
      "execution_count": 10,
      "metadata": {
        "colab": {
          "base_uri": "https://localhost:8080/"
        },
        "id": "Yk_mB4qGFzPz",
        "outputId": "fd8ead5b-f3a1-433d-86d2-13dc188d2c77"
      },
      "outputs": [
        {
          "output_type": "stream",
          "name": "stdout",
          "text": [
            "BEFORE [[3 2]\n",
            " [5 2]\n",
            " [9 5]\n",
            " [1 3]]\n",
            "AFTER [[3 2 5 2 9 5 1 3]]\n"
          ]
        }
      ],
      "source": [
        "tensor = tf.constant([[3, 2],\n",
        "                      [5, 2],\n",
        "                      [9, 5],\n",
        "                      [1, 3]])\n",
        "\n",
        "resh_tensor = tf.reshape(tensor=tensor, shape=(1, 8))\n",
        "\n",
        "print(f'BEFORE {tensor.numpy()}')\n",
        "print(f'AFTER {resh_tensor.numpy()}')"
      ]
    },
    {
      "cell_type": "markdown",
      "metadata": {
        "id": "txp4OBMXFzP6"
      },
      "source": [
        "Пример матричного умножения."
      ]
    },
    {
      "cell_type": "code",
      "execution_count": 11,
      "metadata": {
        "colab": {
          "base_uri": "https://localhost:8080/"
        },
        "id": "2VM7TqHlFzP8",
        "outputId": "2cc199bd-202e-4dd8-8e93-a63f44ef49b7"
      },
      "outputs": [
        {
          "output_type": "stream",
          "name": "stdout",
          "text": [
            "(3, 2) (2, 2) \n",
            "\n",
            "tf.Tensor(\n",
            "[[37 37]\n",
            " [19 19]\n",
            " [12 12]], shape=(3, 2), dtype=int32) \n",
            "\n",
            "tf.Tensor(\n",
            "[[37 37]\n",
            " [19 19]\n",
            " [12 12]], shape=(3, 2), dtype=int32) \n",
            "\n"
          ]
        }
      ],
      "source": [
        "A = tf.constant([[3, 7],\n",
        "                 [1, 9],\n",
        "                 [1, 2]])\n",
        "\n",
        "\n",
        "B = tf.constant([[10, 10],\n",
        "                 [1, 1]])\n",
        "\n",
        "print(A.shape, B.shape, \"\\n\")\n",
        "\n",
        "print(tf.matmul(A, B), \"\\n\")\n",
        "print(A @ B, \"\\n\")"
      ]
    },
    {
      "cell_type": "code",
      "execution_count": 12,
      "metadata": {
        "colab": {
          "base_uri": "https://localhost:8080/"
        },
        "id": "iwFVgO3t_Ghj",
        "outputId": "33f8ea77-3527-40d9-af4c-1f667f00279d"
      },
      "outputs": [
        {
          "output_type": "stream",
          "name": "stdout",
          "text": [
            "есть ли доступные GPU:\n",
            "[]\n",
            "\n",
            "где находится тензор\n",
            "/job:localhost/replica:0/task:0/device:CPU:0\n"
          ]
        }
      ],
      "source": [
        "x = tf.random.uniform([3, 3])\n",
        "\n",
        "print(\"есть ли доступные GPU:\"),\n",
        "print(tf.config.list_physical_devices(\"GPU\"))\n",
        "\n",
        "print(\"\\nгде находится тензор\")\n",
        "print(x.device)"
      ]
    },
    {
      "cell_type": "code",
      "execution_count": 13,
      "metadata": {
        "colab": {
          "base_uri": "https://localhost:8080/"
        },
        "id": "oajro_Ip_hap",
        "outputId": "6c3ad44b-ba03-4159-a535-38bcb7a2cb97"
      },
      "outputs": [
        {
          "output_type": "stream",
          "name": "stdout",
          "text": [
            "CPU:\n",
            "10 циклов: 1426.54ms\n"
          ]
        }
      ],
      "source": [
        "import time\n",
        "\n",
        "def time_matmul(x):\n",
        "  start = time.time()\n",
        "  for loop in range(10):\n",
        "    tf.matmul(x, x)\n",
        "\n",
        "  result = time.time() - start\n",
        "\n",
        "  print(\"10 циклов: {:0.2f}ms\".format(1000 * result))\n",
        "\n",
        "# исполнение CPU\n",
        "print(\"CPU:\")\n",
        "with tf.device(\"CPU:0\"):\n",
        "  x = tf.random.uniform([1000, 1000])\n",
        "  assert x.device.endswith(\"CPU:0\")\n",
        "  time_matmul(x)\n",
        "\n",
        "# исполнение на GPU #0 , если доступен\n",
        "if tf.config.list_physical_devices(\"GPU\"):\n",
        "  print(\"GPU:\")\n",
        "  with tf.device(\"GPU:0\"): # или GPU:1 , для 2х GPU, GPU:2 для 3х  и т.д.\n",
        "    x = tf.random.uniform([1000, 1000])\n",
        "    assert x.device.endswith(\"GPU:0\")\n",
        "    time_matmul(x)"
      ]
    },
    {
      "cell_type": "code",
      "source": [
        "import time\n",
        "\n",
        "def time_matmul(x):\n",
        "  start = time.time()\n",
        "  for loop in range(10):\n",
        "    tf.matmul(x, x)\n",
        "\n",
        "  result = time.time() - start\n",
        "\n",
        "  print(\"10 циклов: {:0.2f}ms\".format(1000 * result))\n",
        "\n",
        "# исполнение CPU\n",
        "print(\"CPU:\")\n",
        "with tf.device(\"CPU:0\"):\n",
        "  x = tf.random.uniform([1000, 1000])\n",
        "  assert x.device.endswith(\"CPU:0\")\n",
        "  time_matmul(x)\n",
        "\n",
        "# исполнение на GPU #0 , если доступен\n",
        "if tf.config.list_physical_devices(\"GPU\"):\n",
        "  print(\"GPU:\")\n",
        "  with tf.device(\"GPU:0\"): # или GPU:1 , для 2х GPU, GPU:2 для 3х  и т.д.\n",
        "    x = tf.random.uniform([1000, 1000])\n",
        "    assert x.device.endswith(\"GPU:0\")\n",
        "    time_matmul(x)"
      ],
      "metadata": {
        "colab": {
          "base_uri": "https://localhost:8080/"
        },
        "id": "BU7FIolBeBal",
        "outputId": "4e5698b7-4405-4fb4-a5ac-a669a481d703"
      },
      "execution_count": 14,
      "outputs": [
        {
          "output_type": "stream",
          "name": "stdout",
          "text": [
            "CPU:\n",
            "10 циклов: 1592.26ms\n"
          ]
        }
      ]
    },
    {
      "cell_type": "code",
      "execution_count": 15,
      "metadata": {
        "id": "ozb2tTqNIBzX"
      },
      "outputs": [],
      "source": [
        "from tensorflow.keras.models import Sequential\n",
        "from tensorflow.keras.layers import Dense\n",
        "from tensorflow.keras.utils import to_categorical"
      ]
    },
    {
      "cell_type": "code",
      "execution_count": 16,
      "metadata": {
        "id": "NInsePV5QKs4"
      },
      "outputs": [],
      "source": [
        "import matplotlib.pyplot as plt"
      ]
    },
    {
      "cell_type": "markdown",
      "metadata": {
        "id": "ubaqhSOiTj9R"
      },
      "source": [
        "### Оптимизаторы"
      ]
    },
    {
      "cell_type": "code",
      "execution_count": 17,
      "metadata": {
        "id": "5g3px8aXXse6"
      },
      "outputs": [],
      "source": [
        "from tensorflow.keras.optimizers import Adam, SGD"
      ]
    },
    {
      "cell_type": "markdown",
      "metadata": {
        "id": "jYysdyb-CaWM"
      },
      "source": [
        "# Классификация изображений одежды"
      ]
    },
    {
      "cell_type": "markdown",
      "metadata": {
        "id": "FbVhjPpzn6BM"
      },
      "source": [
        "Давайте разберем использование tensorflow 2 на примере датасета с одеждой. В этом датасете будут находиться маленькие изображения на белом фоне, такие как кросовки, футболки и прочее.\n",
        "\n",
        "В данном случае мы будем использовать High API от TensorFlow"
      ]
    },
    {
      "cell_type": "code",
      "execution_count": 18,
      "metadata": {
        "colab": {
          "base_uri": "https://localhost:8080/"
        },
        "id": "dzLKpmZICaWN",
        "outputId": "435f0156-ee15-446b-835f-54fb44687a77"
      },
      "outputs": [
        {
          "output_type": "stream",
          "name": "stdout",
          "text": [
            "2.18.0\n"
          ]
        }
      ],
      "source": [
        "import tensorflow as tf\n",
        "\n",
        "import numpy as np\n",
        "import matplotlib.pyplot as plt\n",
        "\n",
        "print(tf.__version__)"
      ]
    },
    {
      "cell_type": "markdown",
      "metadata": {
        "id": "DLdCchMdCaWQ"
      },
      "source": [
        "Мы будет использовать следующий датасет -  [Fashion MNIST](https://github.com/zalandoresearch/fashion-mnist) Этот датасет содержит 70.000 черно-белых изображений в 10 категориях. Изображения имеют разрешение 28x28 пикселей.\n",
        "\n",
        "<table>\n",
        "  <tr><td>\n",
        "    <img src=\"https://tensorflow.org/images/fashion-mnist-sprite.png\"\n",
        "         alt=\"Fashion MNIST sprite\"  width=\"600\">\n",
        "  </td></tr>\n",
        "  <tr><td align=\"center\">\n",
        "    <b>Figure 1.</b> <a href=\"https://github.com/zalandoresearch/fashion-mnist\">Fashion-MNIST samples</a> (by Zalando, MIT License).<br/>&nbsp;\n",
        "  </td></tr>\n",
        "</table>\n",
        "\n",
        "Долгое время в машинном обучение для программ Hello world использовался датасет MNIST с рукописными цифрами. Данный датасет призван несколько усложнить задачу распознования но также подходит в качестве программы Hello world.\n",
        "\n",
        "В этом датасете 60 000 тренировочных изображений и 10 000 тестовых."
      ]
    },
    {
      "cell_type": "code",
      "execution_count": 19,
      "metadata": {
        "colab": {
          "base_uri": "https://localhost:8080/"
        },
        "id": "7MqDQO0KCaWS",
        "outputId": "1f8696f3-0786-4c2f-d604-f58e7990f6e1"
      },
      "outputs": [
        {
          "output_type": "stream",
          "name": "stdout",
          "text": [
            "Downloading data from https://storage.googleapis.com/tensorflow/tf-keras-datasets/train-labels-idx1-ubyte.gz\n",
            "\u001b[1m29515/29515\u001b[0m \u001b[32m━━━━━━━━━━━━━━━━━━━━\u001b[0m\u001b[37m\u001b[0m \u001b[1m0s\u001b[0m 0us/step\n",
            "Downloading data from https://storage.googleapis.com/tensorflow/tf-keras-datasets/train-images-idx3-ubyte.gz\n",
            "\u001b[1m26421880/26421880\u001b[0m \u001b[32m━━━━━━━━━━━━━━━━━━━━\u001b[0m\u001b[37m\u001b[0m \u001b[1m0s\u001b[0m 0us/step\n",
            "Downloading data from https://storage.googleapis.com/tensorflow/tf-keras-datasets/t10k-labels-idx1-ubyte.gz\n",
            "\u001b[1m5148/5148\u001b[0m \u001b[32m━━━━━━━━━━━━━━━━━━━━\u001b[0m\u001b[37m\u001b[0m \u001b[1m0s\u001b[0m 0us/step\n",
            "Downloading data from https://storage.googleapis.com/tensorflow/tf-keras-datasets/t10k-images-idx3-ubyte.gz\n",
            "\u001b[1m4422102/4422102\u001b[0m \u001b[32m━━━━━━━━━━━━━━━━━━━━\u001b[0m\u001b[37m\u001b[0m \u001b[1m0s\u001b[0m 0us/step\n"
          ]
        }
      ],
      "source": [
        "from keras.datasets import fashion_mnist\n",
        "\n",
        "(X_train, y_train_labels), (X_test, y_test_labels) = fashion_mnist.load_data()"
      ]
    },
    {
      "cell_type": "markdown",
      "metadata": {
        "id": "t9FDsUlxCaWW"
      },
      "source": [
        "Датасет содержит следующие классы:\n",
        "\n",
        "<table>\n",
        "  <tr>\n",
        "    <th>Label</th>\n",
        "    <th>Class</th>\n",
        "  </tr>\n",
        "  <tr>\n",
        "    <td>0</td>\n",
        "    <td>T-shirt/top</td>\n",
        "  </tr>\n",
        "  <tr>\n",
        "    <td>1</td>\n",
        "    <td>Trouser</td>\n",
        "  </tr>\n",
        "    <tr>\n",
        "    <td>2</td>\n",
        "    <td>Pullover</td>\n",
        "  </tr>\n",
        "    <tr>\n",
        "    <td>3</td>\n",
        "    <td>Dress</td>\n",
        "  </tr>\n",
        "    <tr>\n",
        "    <td>4</td>\n",
        "    <td>Coat</td>\n",
        "  </tr>\n",
        "    <tr>\n",
        "    <td>5</td>\n",
        "    <td>Sandal</td>\n",
        "  </tr>\n",
        "    <tr>\n",
        "    <td>6</td>\n",
        "    <td>Shirt</td>\n",
        "  </tr>\n",
        "    <tr>\n",
        "    <td>7</td>\n",
        "    <td>Sneaker</td>\n",
        "  </tr>\n",
        "    <tr>\n",
        "    <td>8</td>\n",
        "    <td>Bag</td>\n",
        "  </tr>\n",
        "    <tr>\n",
        "    <td>9</td>\n",
        "    <td>Ankle boot</td>\n",
        "  </tr>\n",
        "</table>\n",
        "\n",
        "Каждому классу обозначенному цифрой мы можем присвоить текстовое значение -"
      ]
    },
    {
      "cell_type": "code",
      "execution_count": 20,
      "metadata": {
        "id": "IjnLH5S2CaWx"
      },
      "outputs": [],
      "source": [
        "class_names = ['T-shirt/top',\n",
        "               'Trouser',\n",
        "               'Pullover',\n",
        "               'Dress',\n",
        "               'Coat',\n",
        "               'Sandal',\n",
        "               'Shirt',\n",
        "               'Sneaker',\n",
        "               'Bag',\n",
        "               'Ankle boot']"
      ]
    },
    {
      "cell_type": "markdown",
      "metadata": {
        "id": "Brm0b_KACaWX"
      },
      "source": [
        "Давайте посмотрим структуры полученного массива данных:"
      ]
    },
    {
      "cell_type": "code",
      "execution_count": 21,
      "metadata": {
        "colab": {
          "base_uri": "https://localhost:8080/"
        },
        "id": "zW5k_xz1CaWX",
        "outputId": "e054e12e-cec8-45d2-9eb9-1167483910eb"
      },
      "outputs": [
        {
          "output_type": "execute_result",
          "data": {
            "text/plain": [
              "(60000, 28, 28)"
            ]
          },
          "metadata": {},
          "execution_count": 21
        }
      ],
      "source": [
        "X_train.shape"
      ]
    },
    {
      "cell_type": "code",
      "execution_count": 22,
      "metadata": {
        "colab": {
          "base_uri": "https://localhost:8080/"
        },
        "id": "TRFYHB2mCaWb",
        "outputId": "33703a32-2969-4c1a-bf83-b7c82be606cc"
      },
      "outputs": [
        {
          "output_type": "execute_result",
          "data": {
            "text/plain": [
              "60000"
            ]
          },
          "metadata": {},
          "execution_count": 22
        }
      ],
      "source": [
        "len(y_train_labels)"
      ]
    },
    {
      "cell_type": "code",
      "execution_count": 23,
      "metadata": {
        "colab": {
          "base_uri": "https://localhost:8080/"
        },
        "id": "XKnCTHz4CaWg",
        "outputId": "e2ef30cb-4714-4e44-a750-9ca5ab3de5e7"
      },
      "outputs": [
        {
          "output_type": "execute_result",
          "data": {
            "text/plain": [
              "array([9, 0, 0, ..., 3, 0, 5], dtype=uint8)"
            ]
          },
          "metadata": {},
          "execution_count": 23
        }
      ],
      "source": [
        "y_train_labels"
      ]
    },
    {
      "cell_type": "markdown",
      "metadata": {
        "id": "TMPI88iZpO2T"
      },
      "source": [
        "Проанализируем тестовую выборку:"
      ]
    },
    {
      "cell_type": "code",
      "execution_count": 24,
      "metadata": {
        "colab": {
          "base_uri": "https://localhost:8080/"
        },
        "id": "2KFnYlcwCaWl",
        "outputId": "e84bf611-4c98-4afe-e51e-8c2b4fde391e"
      },
      "outputs": [
        {
          "output_type": "execute_result",
          "data": {
            "text/plain": [
              "(10000, 28, 28)"
            ]
          },
          "metadata": {},
          "execution_count": 24
        }
      ],
      "source": [
        "X_test.shape"
      ]
    },
    {
      "cell_type": "code",
      "execution_count": 25,
      "metadata": {
        "colab": {
          "base_uri": "https://localhost:8080/"
        },
        "id": "iJmPr5-ACaWn",
        "outputId": "87980087-06f9-4ffc-dc46-d8f079a7f536"
      },
      "outputs": [
        {
          "output_type": "execute_result",
          "data": {
            "text/plain": [
              "10000"
            ]
          },
          "metadata": {},
          "execution_count": 25
        }
      ],
      "source": [
        "len(y_test_labels)"
      ]
    },
    {
      "cell_type": "code",
      "execution_count": 26,
      "metadata": {
        "id": "1PHqiEKY8Ktu"
      },
      "outputs": [],
      "source": [
        "y_train = to_categorical(y_train_labels)\n",
        "y_test = to_categorical(y_test_labels)"
      ]
    },
    {
      "cell_type": "code",
      "execution_count": 27,
      "metadata": {
        "colab": {
          "base_uri": "https://localhost:8080/"
        },
        "id": "da4RVwzxFdAM",
        "outputId": "5ed4c9c2-7e94-4af9-df5d-2bf583a60c1d"
      },
      "outputs": [
        {
          "output_type": "execute_result",
          "data": {
            "text/plain": [
              "array([[0., 0., 0., ..., 0., 0., 1.],\n",
              "       [1., 0., 0., ..., 0., 0., 0.],\n",
              "       [1., 0., 0., ..., 0., 0., 0.],\n",
              "       ...,\n",
              "       [0., 0., 0., ..., 0., 0., 0.],\n",
              "       [1., 0., 0., ..., 0., 0., 0.],\n",
              "       [0., 0., 0., ..., 0., 0., 0.]])"
            ]
          },
          "metadata": {},
          "execution_count": 27
        }
      ],
      "source": [
        "y_train"
      ]
    },
    {
      "cell_type": "markdown",
      "metadata": {
        "id": "ES6uQoLKCaWr"
      },
      "source": [
        "## Подготовка данных\n",
        "\n",
        "Давайте взглянем на конкретный пример изображений с помощью matplotlib:"
      ]
    },
    {
      "cell_type": "code",
      "execution_count": 28,
      "metadata": {
        "colab": {
          "base_uri": "https://localhost:8080/",
          "height": 430
        },
        "id": "m4VEw8Ud9Quh",
        "outputId": "2f13b884-2604-4c3a-e1d2-74c019c4de60"
      },
      "outputs": [
        {
          "output_type": "display_data",
          "data": {
            "text/plain": [
              "<Figure size 640x480 with 2 Axes>"
            ],
            "image/png": "[encoded data removed]"
          },
          "metadata": {}
        }
      ],
      "source": [
        "plt.figure()\n",
        "plt.imshow(X_train[0])\n",
        "plt.colorbar()\n",
        "plt.show()"
      ]
    },
    {
      "cell_type": "markdown",
      "metadata": {
        "id": "Wz7l27Lz9S1P"
      },
      "source": [
        "Для процесса обучения нейронной сети нам важно перевести данные из диапазона от 0 до 255 в диапазон от 0 до 1:"
      ]
    },
    {
      "cell_type": "code",
      "execution_count": 29,
      "metadata": {
        "id": "bW5WzIPlCaWv"
      },
      "outputs": [],
      "source": [
        "X_train = X_train / 255.0\n",
        "X_test = X_test / 255.0"
      ]
    },
    {
      "cell_type": "markdown",
      "metadata": {
        "id": "Ee638AlnCaWz"
      },
      "source": [
        "Посмотрим первые 25 изображений:"
      ]
    },
    {
      "cell_type": "code",
      "execution_count": 30,
      "metadata": {
        "colab": {
          "base_uri": "https://localhost:8080/",
          "height": 826
        },
        "id": "oZTImqg_CaW1",
        "outputId": "cc88714b-a2a3-4429-98e9-2567e257df37"
      },
      "outputs": [
        {
          "output_type": "display_data",
          "data": {
            "text/plain": [
              "<Figure size 1000x1000 with 25 Axes>"
            ],
            "image/png": "[encoded data removed]"
          },
          "metadata": {}
        }
      ],
      "source": [
        "plt.figure(figsize=(10, 10))\n",
        "\n",
        "for i in range(25):\n",
        "    plt.subplot(5, 5, i+1)\n",
        "    plt.xticks([])\n",
        "    plt.yticks([])\n",
        "    plt.imshow(X_train[i], cmap=plt.cm.binary)\n",
        "    plt.xlabel(class_names[y_train_labels[i]])\n",
        "plt.show()"
      ]
    },
    {
      "cell_type": "markdown",
      "metadata": {
        "id": "59veuiEZCaW4"
      },
      "source": [
        "## Построение модели\n",
        "\n",
        "Построение нейронной сети подразумевает конфигурацию ее слоев и последующую компиляцию."
      ]
    },
    {
      "cell_type": "markdown",
      "metadata": {
        "id": "Gxg1XGm0eOBy"
      },
      "source": [
        "### Определение слоев\n",
        "\n",
        "Давайте создадим 3 слоя нейронной сети с помощью функционала Keras.layers"
      ]
    },
    {
      "cell_type": "code",
      "execution_count": 31,
      "metadata": {
        "id": "UqVUwO9Px9iQ"
      },
      "outputs": [],
      "source": [
        "from tensorflow.keras.layers import Input, Flatten, Dense\n",
        "from tensorflow.keras.models import Model"
      ]
    },
    {
      "cell_type": "markdown",
      "metadata": {
        "id": "SPGsEc5l4_8J"
      },
      "source": [
        "Соберем модель в функциональной форме (функциональное API Keras)\n",
        "\n",
        "Сеть собираем как последовательности соединей узлов:\n",
        "\n",
        " вход -> слой 1 -> слой 2 -> выход\n",
        "\n",
        " связь идет через тензоры"
      ]
    },
    {
      "cell_type": "code",
      "execution_count": 32,
      "metadata": {
        "colab": {
          "base_uri": "https://localhost:8080/",
          "height": 289
        },
        "id": "9ODch-OFCaW4",
        "outputId": "c8e9d982-88ae-4cf9-9168-4de09a1ae0e5"
      },
      "outputs": [
        {
          "output_type": "stream",
          "name": "stderr",
          "text": [
            "/usr/local/lib/python3.11/dist-packages/keras/src/layers/reshaping/flatten.py:37: UserWarning: Do not pass an `input_shape`/`input_dim` argument to a layer. When using Sequential models, prefer using an `Input(shape)` object as the first layer in the model instead.\n",
            "  super().__init__(**kwargs)\n"
          ]
        },
        {
          "output_type": "display_data",
          "data": {
            "text/plain": [
              "\u001b[1mModel: \"sequential\"\u001b[0m\n"
            ],
            "text/html": [
              "<pre style=\"white-space:pre;overflow-x:auto;line-height:normal;font-family:Menlo,'DejaVu Sans Mono',consolas,'Courier New',monospace\"><span style=\"font-weight: bold\">Model: \"sequential\"</span>\n",
              "</pre>\n"
            ]
          },
          "metadata": {}
        },
        {
          "output_type": "display_data",
          "data": {
            "text/plain": [
              "┏━━━━━━━━━━━━━━━━━━━━━━━━━━━━━━━━━┳━━━━━━━━━━━━━━━━━━━━━━━━┳━━━━━━━━━━━━━━━┓\n",
              "┃\u001b[1m \u001b[0m\u001b[1mLayer (type)                   \u001b[0m\u001b[1m \u001b[0m┃\u001b[1m \u001b[0m\u001b[1mOutput Shape          \u001b[0m\u001b[1m \u001b[0m┃\u001b[1m \u001b[0m\u001b[1m      Param #\u001b[0m\u001b[1m \u001b[0m┃\n",
              "┡━━━━━━━━━━━━━━━━━━━━━━━━━━━━━━━━━╇━━━━━━━━━━━━━━━━━━━━━━━━╇━━━━━━━━━━━━━━━┩\n",
              "│ flatten (\u001b[38;5;33mFlatten\u001b[0m)               │ (\u001b[38;5;45mNone\u001b[0m, \u001b[38;5;34m784\u001b[0m)            │             \u001b[38;5;34m0\u001b[0m │\n",
              "├─────────────────────────────────┼────────────────────────┼───────────────┤\n",
              "│ dense (\u001b[38;5;33mDense\u001b[0m)                   │ (\u001b[38;5;45mNone\u001b[0m, \u001b[38;5;34m128\u001b[0m)            │       \u001b[38;5;34m100,480\u001b[0m │\n",
              "├─────────────────────────────────┼────────────────────────┼───────────────┤\n",
              "│ dense_1 (\u001b[38;5;33mDense\u001b[0m)                 │ (\u001b[38;5;45mNone\u001b[0m, \u001b[38;5;34m10\u001b[0m)             │         \u001b[38;5;34m1,290\u001b[0m │\n",
              "└─────────────────────────────────┴────────────────────────┴───────────────┘\n"
            ],
            "text/html": [
              "<pre style=\"white-space:pre;overflow-x:auto;line-height:normal;font-family:Menlo,'DejaVu Sans Mono',consolas,'Courier New',monospace\">┏━━━━━━━━━━━━━━━━━━━━━━━━━━━━━━━━━┳━━━━━━━━━━━━━━━━━━━━━━━━┳━━━━━━━━━━━━━━━┓\n",
              "┃<span style=\"font-weight: bold\"> Layer (type)                    </span>┃<span style=\"font-weight: bold\"> Output Shape           </span>┃<span style=\"font-weight: bold\">       Param # </span>┃\n",
              "┡━━━━━━━━━━━━━━━━━━━━━━━━━━━━━━━━━╇━━━━━━━━━━━━━━━━━━━━━━━━╇━━━━━━━━━━━━━━━┩\n",
              "│ flatten (<span style=\"color: #0087ff; text-decoration-color: #0087ff\">Flatten</span>)               │ (<span style=\"color: #00d7ff; text-decoration-color: #00d7ff\">None</span>, <span style=\"color: #00af00; text-decoration-color: #00af00\">784</span>)            │             <span style=\"color: #00af00; text-decoration-color: #00af00\">0</span> │\n",
              "├─────────────────────────────────┼────────────────────────┼───────────────┤\n",
              "│ dense (<span style=\"color: #0087ff; text-decoration-color: #0087ff\">Dense</span>)                   │ (<span style=\"color: #00d7ff; text-decoration-color: #00d7ff\">None</span>, <span style=\"color: #00af00; text-decoration-color: #00af00\">128</span>)            │       <span style=\"color: #00af00; text-decoration-color: #00af00\">100,480</span> │\n",
              "├─────────────────────────────────┼────────────────────────┼───────────────┤\n",
              "│ dense_1 (<span style=\"color: #0087ff; text-decoration-color: #0087ff\">Dense</span>)                 │ (<span style=\"color: #00d7ff; text-decoration-color: #00d7ff\">None</span>, <span style=\"color: #00af00; text-decoration-color: #00af00\">10</span>)             │         <span style=\"color: #00af00; text-decoration-color: #00af00\">1,290</span> │\n",
              "└─────────────────────────────────┴────────────────────────┴───────────────┘\n",
              "</pre>\n"
            ]
          },
          "metadata": {}
        },
        {
          "output_type": "display_data",
          "data": {
            "text/plain": [
              "\u001b[1m Total params: \u001b[0m\u001b[38;5;34m101,770\u001b[0m (397.54 KB)\n"
            ],
            "text/html": [
              "<pre style=\"white-space:pre;overflow-x:auto;line-height:normal;font-family:Menlo,'DejaVu Sans Mono',consolas,'Courier New',monospace\"><span style=\"font-weight: bold\"> Total params: </span><span style=\"color: #00af00; text-decoration-color: #00af00\">101,770</span> (397.54 KB)\n",
              "</pre>\n"
            ]
          },
          "metadata": {}
        },
        {
          "output_type": "display_data",
          "data": {
            "text/plain": [
              "\u001b[1m Trainable params: \u001b[0m\u001b[38;5;34m101,770\u001b[0m (397.54 KB)\n"
            ],
            "text/html": [
              "<pre style=\"white-space:pre;overflow-x:auto;line-height:normal;font-family:Menlo,'DejaVu Sans Mono',consolas,'Courier New',monospace\"><span style=\"font-weight: bold\"> Trainable params: </span><span style=\"color: #00af00; text-decoration-color: #00af00\">101,770</span> (397.54 KB)\n",
              "</pre>\n"
            ]
          },
          "metadata": {}
        },
        {
          "output_type": "display_data",
          "data": {
            "text/plain": [
              "\u001b[1m Non-trainable params: \u001b[0m\u001b[38;5;34m0\u001b[0m (0.00 B)\n"
            ],
            "text/html": [
              "<pre style=\"white-space:pre;overflow-x:auto;line-height:normal;font-family:Menlo,'DejaVu Sans Mono',consolas,'Courier New',monospace\"><span style=\"font-weight: bold\"> Non-trainable params: </span><span style=\"color: #00af00; text-decoration-color: #00af00\">0</span> (0.00 B)\n",
              "</pre>\n"
            ]
          },
          "metadata": {}
        }
      ],
      "source": [
        "model = Sequential([\n",
        "    Flatten(input_shape=(28, 28)),\n",
        "    Dense(128, activation='relu'),\n",
        "    Dense(10)\n",
        "])\n",
        "\n",
        "model.summary()"
      ]
    },
    {
      "cell_type": "markdown",
      "metadata": {
        "id": "gut8A_7rCaW6"
      },
      "source": [
        "Первый слой, `tf.keras.layers.Flatten`, трасформирует двумерный массив на входе в одномерный массив.\n",
        "\n",
        "Получившиеся 784 (28 x 28) входных нейрона присоединяем к полносвязному слою из 128 нейронов , которые будут использовать функцию активации relu. В выходном слое будет 10 нейронов, по числу классов, которые он должен предсказывать."
      ]
    },
    {
      "cell_type": "code",
      "execution_count": 33,
      "metadata": {
        "colab": {
          "base_uri": "https://localhost:8080/"
        },
        "id": "P9V7ENde4t1S",
        "outputId": "4d120e4b-1568-40b1-c92b-76fc9d083a17"
      },
      "outputs": [
        {
          "output_type": "execute_result",
          "data": {
            "text/plain": [
              "(<KerasTensor shape=(None, 784), dtype=float32, sparse=False, name=keras_tensor_5>,\n",
              " <KerasTensor shape=(None, 128), dtype=float32, sparse=False, name=keras_tensor_6>,\n",
              " <KerasTensor shape=(None, 10), dtype=float32, sparse=False, name=keras_tensor_7>)"
            ]
          },
          "metadata": {},
          "execution_count": 33
        }
      ],
      "source": [
        "inputs = Input(shape=(28, 28))\n",
        "x_1 = Flatten()(inputs)\n",
        "x_2 = Dense(128, activation='relu')(x_1)\n",
        "outputs = Dense(10)(x_2)\n",
        "\n",
        "x_1, x_2, outputs"
      ]
    },
    {
      "cell_type": "code",
      "execution_count": 34,
      "metadata": {
        "id": "prhavY9JioU-"
      },
      "outputs": [],
      "source": [
        "model = Model(inputs, outputs)"
      ]
    },
    {
      "cell_type": "code",
      "execution_count": 35,
      "metadata": {
        "colab": {
          "base_uri": "https://localhost:8080/",
          "height": 268
        },
        "id": "Cu7Rm7zw6Una",
        "outputId": "35ac8461-4572-468b-e75d-95a5927b3e7d"
      },
      "outputs": [
        {
          "output_type": "display_data",
          "data": {
            "text/plain": [
              "\u001b[1mModel: \"functional_1\"\u001b[0m\n"
            ],
            "text/html": [
              "<pre style=\"white-space:pre;overflow-x:auto;line-height:normal;font-family:Menlo,'DejaVu Sans Mono',consolas,'Courier New',monospace\"><span style=\"font-weight: bold\">Model: \"functional_1\"</span>\n",
              "</pre>\n"
            ]
          },
          "metadata": {}
        },
        {
          "output_type": "display_data",
          "data": {
            "text/plain": [
              "┏━━━━━━━━━━━━━━━━━━━━━━━━━━━━━━━━━┳━━━━━━━━━━━━━━━━━━━━━━━━┳━━━━━━━━━━━━━━━┓\n",
              "┃\u001b[1m \u001b[0m\u001b[1mLayer (type)                   \u001b[0m\u001b[1m \u001b[0m┃\u001b[1m \u001b[0m\u001b[1mOutput Shape          \u001b[0m\u001b[1m \u001b[0m┃\u001b[1m \u001b[0m\u001b[1m      Param #\u001b[0m\u001b[1m \u001b[0m┃\n",
              "┡━━━━━━━━━━━━━━━━━━━━━━━━━━━━━━━━━╇━━━━━━━━━━━━━━━━━━━━━━━━╇━━━━━━━━━━━━━━━┩\n",
              "│ input_layer_1 (\u001b[38;5;33mInputLayer\u001b[0m)      │ (\u001b[38;5;45mNone\u001b[0m, \u001b[38;5;34m28\u001b[0m, \u001b[38;5;34m28\u001b[0m)         │             \u001b[38;5;34m0\u001b[0m │\n",
              "├─────────────────────────────────┼────────────────────────┼───────────────┤\n",
              "│ flatten_1 (\u001b[38;5;33mFlatten\u001b[0m)             │ (\u001b[38;5;45mNone\u001b[0m, \u001b[38;5;34m784\u001b[0m)            │             \u001b[38;5;34m0\u001b[0m │\n",
              "├─────────────────────────────────┼────────────────────────┼───────────────┤\n",
              "│ dense_2 (\u001b[38;5;33mDense\u001b[0m)                 │ (\u001b[38;5;45mNone\u001b[0m, \u001b[38;5;34m128\u001b[0m)            │       \u001b[38;5;34m100,480\u001b[0m │\n",
              "├─────────────────────────────────┼────────────────────────┼───────────────┤\n",
              "│ dense_3 (\u001b[38;5;33mDense\u001b[0m)                 │ (\u001b[38;5;45mNone\u001b[0m, \u001b[38;5;34m10\u001b[0m)             │         \u001b[38;5;34m1,290\u001b[0m │\n",
              "└─────────────────────────────────┴────────────────────────┴───────────────┘\n"
            ],
            "text/html": [
              "<pre style=\"white-space:pre;overflow-x:auto;line-height:normal;font-family:Menlo,'DejaVu Sans Mono',consolas,'Courier New',monospace\">┏━━━━━━━━━━━━━━━━━━━━━━━━━━━━━━━━━┳━━━━━━━━━━━━━━━━━━━━━━━━┳━━━━━━━━━━━━━━━┓\n",
              "┃<span style=\"font-weight: bold\"> Layer (type)                    </span>┃<span style=\"font-weight: bold\"> Output Shape           </span>┃<span style=\"font-weight: bold\">       Param # </span>┃\n",
              "┡━━━━━━━━━━━━━━━━━━━━━━━━━━━━━━━━━╇━━━━━━━━━━━━━━━━━━━━━━━━╇━━━━━━━━━━━━━━━┩\n",
              "│ input_layer_1 (<span style=\"color: #0087ff; text-decoration-color: #0087ff\">InputLayer</span>)      │ (<span style=\"color: #00d7ff; text-decoration-color: #00d7ff\">None</span>, <span style=\"color: #00af00; text-decoration-color: #00af00\">28</span>, <span style=\"color: #00af00; text-decoration-color: #00af00\">28</span>)         │             <span style=\"color: #00af00; text-decoration-color: #00af00\">0</span> │\n",
              "├─────────────────────────────────┼────────────────────────┼───────────────┤\n",
              "│ flatten_1 (<span style=\"color: #0087ff; text-decoration-color: #0087ff\">Flatten</span>)             │ (<span style=\"color: #00d7ff; text-decoration-color: #00d7ff\">None</span>, <span style=\"color: #00af00; text-decoration-color: #00af00\">784</span>)            │             <span style=\"color: #00af00; text-decoration-color: #00af00\">0</span> │\n",
              "├─────────────────────────────────┼────────────────────────┼───────────────┤\n",
              "│ dense_2 (<span style=\"color: #0087ff; text-decoration-color: #0087ff\">Dense</span>)                 │ (<span style=\"color: #00d7ff; text-decoration-color: #00d7ff\">None</span>, <span style=\"color: #00af00; text-decoration-color: #00af00\">128</span>)            │       <span style=\"color: #00af00; text-decoration-color: #00af00\">100,480</span> │\n",
              "├─────────────────────────────────┼────────────────────────┼───────────────┤\n",
              "│ dense_3 (<span style=\"color: #0087ff; text-decoration-color: #0087ff\">Dense</span>)                 │ (<span style=\"color: #00d7ff; text-decoration-color: #00d7ff\">None</span>, <span style=\"color: #00af00; text-decoration-color: #00af00\">10</span>)             │         <span style=\"color: #00af00; text-decoration-color: #00af00\">1,290</span> │\n",
              "└─────────────────────────────────┴────────────────────────┴───────────────┘\n",
              "</pre>\n"
            ]
          },
          "metadata": {}
        },
        {
          "output_type": "display_data",
          "data": {
            "text/plain": [
              "\u001b[1m Total params: \u001b[0m\u001b[38;5;34m101,770\u001b[0m (397.54 KB)\n"
            ],
            "text/html": [
              "<pre style=\"white-space:pre;overflow-x:auto;line-height:normal;font-family:Menlo,'DejaVu Sans Mono',consolas,'Courier New',monospace\"><span style=\"font-weight: bold\"> Total params: </span><span style=\"color: #00af00; text-decoration-color: #00af00\">101,770</span> (397.54 KB)\n",
              "</pre>\n"
            ]
          },
          "metadata": {}
        },
        {
          "output_type": "display_data",
          "data": {
            "text/plain": [
              "\u001b[1m Trainable params: \u001b[0m\u001b[38;5;34m101,770\u001b[0m (397.54 KB)\n"
            ],
            "text/html": [
              "<pre style=\"white-space:pre;overflow-x:auto;line-height:normal;font-family:Menlo,'DejaVu Sans Mono',consolas,'Courier New',monospace\"><span style=\"font-weight: bold\"> Trainable params: </span><span style=\"color: #00af00; text-decoration-color: #00af00\">101,770</span> (397.54 KB)\n",
              "</pre>\n"
            ]
          },
          "metadata": {}
        },
        {
          "output_type": "display_data",
          "data": {
            "text/plain": [
              "\u001b[1m Non-trainable params: \u001b[0m\u001b[38;5;34m0\u001b[0m (0.00 B)\n"
            ],
            "text/html": [
              "<pre style=\"white-space:pre;overflow-x:auto;line-height:normal;font-family:Menlo,'DejaVu Sans Mono',consolas,'Courier New',monospace\"><span style=\"font-weight: bold\"> Non-trainable params: </span><span style=\"color: #00af00; text-decoration-color: #00af00\">0</span> (0.00 B)\n",
              "</pre>\n"
            ]
          },
          "metadata": {}
        }
      ],
      "source": [
        "model.summary()"
      ]
    },
    {
      "cell_type": "markdown",
      "metadata": {
        "id": "n3SWLueHyQDU"
      },
      "source": [
        "\n",
        "### Компиляция модели\n",
        "\n",
        "Давайте вспомним ключевые понятия, которые нам понадобяться при компиляции:\n",
        "\n",
        "* *Loss function* — меряет как точно работает нейросеть.\n",
        "* *Optimizer* — определяет способ корректировки весов.\n",
        "* *Metrics* — определяет за какие характеристики будут отражаться в процессе обучения."
      ]
    },
    {
      "cell_type": "code",
      "execution_count": 36,
      "metadata": {
        "id": "Lhan11blCaW7"
      },
      "outputs": [],
      "source": [
        "from tensorflow.keras.losses import CategoricalCrossentropy, SparseCategoricalCrossentropy\n",
        "\n",
        "model.compile(optimizer=Adam(),\n",
        "              loss=CategoricalCrossentropy(from_logits=True),\n",
        "              metrics=['accuracy'])"
      ]
    },
    {
      "cell_type": "markdown",
      "metadata": {
        "id": "qKF6uW-BCaW-"
      },
      "source": [
        "## Тренировка модели\n",
        "\n",
        "Здесь все стандартно - данные передаются в нейросеть и сопоставляются изображения и лейблы.\n",
        "\n"
      ]
    },
    {
      "cell_type": "markdown",
      "metadata": {
        "id": "Z4P4zIV7E28Z"
      },
      "source": [
        "### Передача данных в модель\n",
        "\n",
        "Команда непосредственно запускающая процесс обучения называется - `model.fit`:"
      ]
    },
    {
      "cell_type": "code",
      "execution_count": 37,
      "metadata": {
        "colab": {
          "base_uri": "https://localhost:8080/"
        },
        "id": "xvwvpA64CaW_",
        "outputId": "801b0782-9f7d-4e5e-e6bb-a3a685f68683"
      },
      "outputs": [
        {
          "output_type": "stream",
          "name": "stdout",
          "text": [
            "Epoch 1/5\n",
            "\u001b[1m235/235\u001b[0m \u001b[32m━━━━━━━━━━━━━━━━━━━━\u001b[0m\u001b[37m\u001b[0m \u001b[1m7s\u001b[0m 21ms/step - accuracy: 0.7085 - loss: 0.8646 - val_accuracy: 0.8265 - val_loss: 0.4921\n",
            "Epoch 2/5\n",
            "\u001b[1m235/235\u001b[0m \u001b[32m━━━━━━━━━━━━━━━━━━━━\u001b[0m\u001b[37m\u001b[0m \u001b[1m3s\u001b[0m 13ms/step - accuracy: 0.8480 - loss: 0.4411 - val_accuracy: 0.8392 - val_loss: 0.4516\n",
            "Epoch 3/5\n",
            "\u001b[1m235/235\u001b[0m \u001b[32m━━━━━━━━━━━━━━━━━━━━\u001b[0m\u001b[37m\u001b[0m \u001b[1m4s\u001b[0m 7ms/step - accuracy: 0.8626 - loss: 0.3978 - val_accuracy: 0.8503 - val_loss: 0.4182\n",
            "Epoch 4/5\n",
            "\u001b[1m235/235\u001b[0m \u001b[32m━━━━━━━━━━━━━━━━━━━━\u001b[0m\u001b[37m\u001b[0m \u001b[1m1s\u001b[0m 6ms/step - accuracy: 0.8697 - loss: 0.3680 - val_accuracy: 0.8581 - val_loss: 0.3982\n",
            "Epoch 5/5\n",
            "\u001b[1m235/235\u001b[0m \u001b[32m━━━━━━━━━━━━━━━━━━━━\u001b[0m\u001b[37m\u001b[0m \u001b[1m2s\u001b[0m 6ms/step - accuracy: 0.8779 - loss: 0.3475 - val_accuracy: 0.8666 - val_loss: 0.3836\n"
          ]
        },
        {
          "output_type": "execute_result",
          "data": {
            "text/plain": [
              "<keras.src.callbacks.history.History at 0x7f3712b3e610>"
            ]
          },
          "metadata": {},
          "execution_count": 37
        }
      ],
      "source": [
        "model.fit(X_train, y_train,\n",
        "          epochs=5,\n",
        "          batch_size=256,\n",
        "          validation_data=(X_test, y_test))"
      ]
    },
    {
      "cell_type": "code",
      "execution_count": 38,
      "metadata": {
        "colab": {
          "base_uri": "https://localhost:8080/"
        },
        "id": "VflXLEeECaXC",
        "outputId": "aa334d06-bfe6-4a99-9211-dcd67da9298b"
      },
      "outputs": [
        {
          "output_type": "stream",
          "name": "stdout",
          "text": [
            "313/313 - 1s - 2ms/step - accuracy: 0.8666 - loss: 0.3836\n",
            "\n",
            "Test accuracy: 0.866599977016449\n"
          ]
        }
      ],
      "source": [
        "test_loss, test_acc = model.evaluate(X_test, y_test, verbose=2)\n",
        "\n",
        "print('\\nTest accuracy:', test_acc)"
      ]
    },
    {
      "cell_type": "markdown",
      "metadata": {
        "id": "ThiOOMngFzRw"
      },
      "source": [
        "В выводе выше мы следим за точностью в процессе обучения, проверяем точность на тестовых данных и меняем параметры нейросети если точность на тестовых данных нас не устраивает."
      ]
    },
    {
      "cell_type": "markdown",
      "metadata": {
        "id": "iZQu7LGtjVqk"
      },
      "source": [
        "На данный момент наша модель отвечает линейно:"
      ]
    },
    {
      "cell_type": "code",
      "execution_count": 39,
      "metadata": {
        "colab": {
          "base_uri": "https://localhost:8080/"
        },
        "id": "nt_ZrOAwjOw4",
        "outputId": "f67b1788-2910-440a-c26c-ba5c76dc2f4c"
      },
      "outputs": [
        {
          "output_type": "stream",
          "name": "stdout",
          "text": [
            "\u001b[1m1/1\u001b[0m \u001b[32m━━━━━━━━━━━━━━━━━━━━\u001b[0m\u001b[37m\u001b[0m \u001b[1m0s\u001b[0m 61ms/step\n"
          ]
        },
        {
          "output_type": "execute_result",
          "data": {
            "text/plain": [
              "array([[ -5.2798967, -10.28961  ,  -6.820895 ,  -6.125845 ,  -7.134352 ,\n",
              "          3.279038 ,  -4.949872 ,   3.3423345,  -0.968655 ,   5.0575933]],\n",
              "      dtype=float32)"
            ]
          },
          "metadata": {},
          "execution_count": 39
        }
      ],
      "source": [
        "model.predict(X_test[:1])"
      ]
    },
    {
      "cell_type": "code",
      "execution_count": 40,
      "metadata": {
        "colab": {
          "base_uri": "https://localhost:8080/"
        },
        "id": "DGoZ49vKmf7v",
        "outputId": "9e241b43-d571-464d-991c-28463b473441"
      },
      "outputs": [
        {
          "output_type": "execute_result",
          "data": {
            "text/plain": [
              "array([[0., 0., 0., 0., 0., 0., 0., 0., 0., 1.]])"
            ]
          },
          "metadata": {},
          "execution_count": 40
        }
      ],
      "source": [
        "y_test[:1]"
      ]
    },
    {
      "cell_type": "code",
      "execution_count": 41,
      "metadata": {
        "id": "x2LZN4k7ISZ2"
      },
      "outputs": [],
      "source": [
        "# мультилейбл - sigmoid\n",
        "# мультикласс - softmax"
      ]
    },
    {
      "cell_type": "markdown",
      "metadata": {
        "id": "v-PyD1SYE28q"
      },
      "source": [
        "### Предсказания нейросети\n",
        "\n",
        "Команды ниже позволяют проверить работу натренированной ранее нейросети."
      ]
    },
    {
      "cell_type": "markdown",
      "metadata": {
        "id": "4prKqteTMZcd"
      },
      "source": [
        "**Softmax**\n",
        "\n",
        "<img src='https://drive.google.com/uc?export=view&id=1dW-Hk-qogTWG-x3bkzlM5aHsWhxe3juX'>"
      ]
    },
    {
      "cell_type": "code",
      "execution_count": 42,
      "metadata": {
        "id": "DnfNA0CrQLSD"
      },
      "outputs": [],
      "source": [
        "probability_model = Sequential([\n",
        "    model,\n",
        "    tf.keras.layers.Softmax()\n",
        "])"
      ]
    },
    {
      "cell_type": "code",
      "execution_count": 43,
      "metadata": {
        "colab": {
          "base_uri": "https://localhost:8080/"
        },
        "id": "Gl91RPhdCaXI",
        "outputId": "d429e491-a465-4365-a8e4-3f75a16c423c"
      },
      "outputs": [
        {
          "output_type": "stream",
          "name": "stdout",
          "text": [
            "\u001b[1m313/313\u001b[0m \u001b[32m━━━━━━━━━━━━━━━━━━━━\u001b[0m\u001b[37m\u001b[0m \u001b[1m1s\u001b[0m 2ms/step\n"
          ]
        }
      ],
      "source": [
        "predictions = probability_model.predict(X_test)"
      ]
    },
    {
      "cell_type": "code",
      "execution_count": 44,
      "metadata": {
        "colab": {
          "base_uri": "https://localhost:8080/"
        },
        "id": "3DmJEUinCaXK",
        "outputId": "36dc9a43-1256-4c39-959d-c2fc336f2d2c"
      },
      "outputs": [
        {
          "output_type": "execute_result",
          "data": {
            "text/plain": [
              "array([2.39732926e-05, 1.59969545e-07, 5.13429677e-06, 1.02881440e-05,\n",
              "       3.75274044e-06, 1.24975935e-01, 3.33469106e-05, 1.33142173e-01,\n",
              "       1.78680336e-03, 7.40018487e-01], dtype=float32)"
            ]
          },
          "metadata": {},
          "execution_count": 44
        }
      ],
      "source": [
        "predictions[0]"
      ]
    },
    {
      "cell_type": "code",
      "execution_count": 45,
      "metadata": {
        "colab": {
          "base_uri": "https://localhost:8080/"
        },
        "id": "qsqenuPnCaXO",
        "outputId": "596f81ff-9247-4d69-94e8-34038404e654"
      },
      "outputs": [
        {
          "output_type": "execute_result",
          "data": {
            "text/plain": [
              "np.int64(9)"
            ]
          },
          "metadata": {},
          "execution_count": 45
        }
      ],
      "source": [
        "np.argmax(predictions[0])"
      ]
    },
    {
      "cell_type": "code",
      "execution_count": 46,
      "metadata": {
        "colab": {
          "base_uri": "https://localhost:8080/"
        },
        "id": "Sd7Pgsu6CaXP",
        "outputId": "65ce417b-c59c-4d7a-f204-88b8a6f2de8a"
      },
      "outputs": [
        {
          "output_type": "execute_result",
          "data": {
            "text/plain": [
              "np.uint8(9)"
            ]
          },
          "metadata": {},
          "execution_count": 46
        }
      ],
      "source": [
        "y_test_labels[0]"
      ]
    },
    {
      "cell_type": "code",
      "execution_count": 47,
      "metadata": {
        "id": "DvYmmrpIy6Y1"
      },
      "outputs": [],
      "source": [
        "def plot_image(i, predictions_array, true_label, img):\n",
        "    predictions_array, true_label, img = predictions_array[i], true_label[i], img[i]\n",
        "    plt.grid(False)\n",
        "    plt.xticks([])\n",
        "    plt.yticks([])\n",
        "\n",
        "    plt.imshow(img, cmap=plt.cm.binary)\n",
        "\n",
        "    predicted_label = np.argmax(predictions_array)\n",
        "    if predicted_label == true_label:\n",
        "        color = 'blue'\n",
        "    else:\n",
        "        color = 'red'\n",
        "\n",
        "    plt.xlabel(\"{} {:2.0f}% ({})\".format(class_names[predicted_label],\n",
        "                                         100*np.max(predictions_array),\n",
        "                                         class_names[true_label]),\n",
        "                                         color=color)\n",
        "\n",
        "def plot_value_array(i, predictions_array, true_label):\n",
        "    predictions_array, true_label = predictions_array[i], true_label[i]\n",
        "    plt.grid(False)\n",
        "    plt.xticks(range(10))\n",
        "    plt.yticks([])\n",
        "    thisplot = plt.bar(range(10), predictions_array, color=\"#777777\")\n",
        "    plt.ylim([0, 1])\n",
        "    predicted_label = np.argmax(predictions_array)\n",
        "\n",
        "    thisplot[predicted_label].set_color('red')\n",
        "    thisplot[true_label].set_color('blue')"
      ]
    },
    {
      "cell_type": "markdown",
      "metadata": {
        "id": "Zh9yABaME29S"
      },
      "source": [
        "### Проверка предсказаний\n",
        "\n",
        "Matplotlib нам дает возможность посмотреть наше предсказание графически:"
      ]
    },
    {
      "cell_type": "code",
      "execution_count": 48,
      "metadata": {
        "colab": {
          "base_uri": "https://localhost:8080/",
          "height": 291
        },
        "id": "HV5jw-5HwSmO",
        "outputId": "ff7497fe-f7df-42e5-8b48-bc714df01626"
      },
      "outputs": [
        {
          "output_type": "display_data",
          "data": {
            "text/plain": [
              "<Figure size 600x300 with 2 Axes>"
            ],
            "image/png": "[encoded data removed]"
          },
          "metadata": {}
        }
      ],
      "source": [
        "i = 7\n",
        "plt.figure(figsize=(6,3))\n",
        "plt.subplot(1,2,1)\n",
        "plot_image(i, predictions, y_test_labels, X_test)\n",
        "plt.subplot(1,2,2)\n",
        "plot_value_array(i, predictions, y_test_labels)\n",
        "plt.show()"
      ]
    },
    {
      "cell_type": "code",
      "execution_count": 49,
      "metadata": {
        "colab": {
          "base_uri": "https://localhost:8080/",
          "height": 291
        },
        "id": "Ko-uzOufSCSe",
        "outputId": "71e61ff0-52de-4518-aaa0-6a62c1828a75"
      },
      "outputs": [
        {
          "output_type": "display_data",
          "data": {
            "text/plain": [
              "<Figure size 600x300 with 2 Axes>"
            ],
            "image/png": "[encoded data removed]"
          },
          "metadata": {}
        }
      ],
      "source": [
        "i = 12\n",
        "plt.figure(figsize=(6,3))\n",
        "plt.subplot(1,2,1)\n",
        "plot_image(i, predictions, y_test_labels, X_test)\n",
        "plt.subplot(1,2,2)\n",
        "plot_value_array(i, predictions, y_test_labels)\n",
        "plt.show()"
      ]
    },
    {
      "cell_type": "markdown",
      "metadata": {
        "id": "kgdvGD52CaXR"
      },
      "source": [
        "Давайте сделаем еще несколько предсказаний -"
      ]
    },
    {
      "cell_type": "code",
      "execution_count": 50,
      "metadata": {
        "colab": {
          "base_uri": "https://localhost:8080/",
          "height": 1000
        },
        "id": "hQlnbqaw2Qu_",
        "outputId": "42bb603b-408a-4d9b-fc0b-e2165cae403c"
      },
      "outputs": [
        {
          "output_type": "display_data",
          "data": {
            "text/plain": [
              "<Figure size 1200x1000 with 30 Axes>"
            ],
            "image/png": "[encoded data removed]"
          },
          "metadata": {}
        }
      ],
      "source": [
        "num_rows = 5\n",
        "num_cols = 3\n",
        "num_images = num_rows * num_cols\n",
        "plt.figure(figsize=(2 * 2 * num_cols, 2 * num_rows))\n",
        "\n",
        "for i in range(num_images):\n",
        "    plt.subplot(num_rows, 2 * num_cols, 2 * i + 1)\n",
        "    plot_image(i, predictions, y_test_labels, X_test)\n",
        "    plt.subplot(num_rows, 2 * num_cols, 2 * i + 2)\n",
        "    plot_value_array(i, predictions, y_test_labels)\n",
        "\n",
        "plt.tight_layout()\n",
        "plt.show()"
      ]
    },
    {
      "cell_type": "markdown",
      "metadata": {
        "id": "R32zteKHCaXT"
      },
      "source": [
        "## Использование полученной модели\n",
        "\n",
        "Давайте возьмем одно изображение из тестовой выборки и посмотрим предсказание нейронной сети."
      ]
    },
    {
      "cell_type": "code",
      "execution_count": 51,
      "metadata": {
        "colab": {
          "base_uri": "https://localhost:8080/"
        },
        "id": "yRJ7JU7JCaXT",
        "outputId": "6ad9ad8e-1b06-4567-cb81-28a0b61ddbaa"
      },
      "outputs": [
        {
          "output_type": "stream",
          "name": "stdout",
          "text": [
            "(28, 28)\n"
          ]
        }
      ],
      "source": [
        "i = 0\n",
        "img = X_test[i]\n",
        "\n",
        "print(img.shape)"
      ]
    },
    {
      "cell_type": "code",
      "execution_count": 52,
      "metadata": {
        "colab": {
          "base_uri": "https://localhost:8080/"
        },
        "id": "lDFh5yF_CaXW",
        "outputId": "afabfd8f-aed8-4707-b1b6-71e97e7d6af9"
      },
      "outputs": [
        {
          "output_type": "stream",
          "name": "stdout",
          "text": [
            "(1, 28, 28)\n",
            "(1, 28, 28)\n",
            "(1, 28, 28)\n"
          ]
        }
      ],
      "source": [
        "# Add the image to a batch where it's the only member\n",
        "imgs = np.expand_dims(img, 0)\n",
        "\n",
        "print(imgs.shape)\n",
        "\n",
        "print(img.reshape((1, img.shape[0], img.shape[0])).shape)\n",
        "print(img[None].shape)"
      ]
    },
    {
      "cell_type": "code",
      "execution_count": 53,
      "metadata": {
        "colab": {
          "base_uri": "https://localhost:8080/"
        },
        "id": "o_rzNSdrCaXY",
        "outputId": "cfc934a6-491f-4a37-a92d-dd9baf154190"
      },
      "outputs": [
        {
          "output_type": "stream",
          "name": "stdout",
          "text": [
            "\u001b[1m1/1\u001b[0m \u001b[32m━━━━━━━━━━━━━━━━━━━━\u001b[0m\u001b[37m\u001b[0m \u001b[1m0s\u001b[0m 35ms/step\n"
          ]
        },
        {
          "output_type": "execute_result",
          "data": {
            "text/plain": [
              "array([[2.39732981e-05, 1.59969417e-07, 5.13429313e-06, 1.02881468e-05,\n",
              "        3.75273430e-06, 1.24975786e-01, 3.33469179e-05, 1.33142039e-01,\n",
              "        1.78680115e-03, 7.40018666e-01]], dtype=float32)"
            ]
          },
          "metadata": {},
          "execution_count": 53
        }
      ],
      "source": [
        "predictions_single = probability_model.predict(imgs)\n",
        "\n",
        "predictions_single"
      ]
    },
    {
      "cell_type": "code",
      "execution_count": 54,
      "metadata": {
        "colab": {
          "base_uri": "https://localhost:8080/",
          "height": 887
        },
        "id": "6Ai-cpLjO-3A",
        "outputId": "327c6786-227c-4c2a-f275-5df446049946"
      },
      "outputs": [
        {
          "output_type": "display_data",
          "data": {
            "text/plain": [
              "<Figure size 640x480 with 1 Axes>"
            ],
            "image/png": "[encoded data removed]"
          },
          "metadata": {}
        },
        {
          "output_type": "display_data",
          "data": {
            "text/plain": [
              "<Figure size 640x480 with 1 Axes>"
            ],
            "image/png": "[encoded data removed]"
          },
          "metadata": {}
        }
      ],
      "source": [
        "plot_image(i, predictions, y_test_labels, X_test)\n",
        "plt.show()\n",
        "plot_value_array(i, predictions_single, y_test_labels)\n",
        "plt.xticks(range(10), class_names, rotation=45);"
      ]
    },
    {
      "cell_type": "markdown",
      "metadata": {
        "id": "cU1Y2OAMCaXb"
      },
      "source": [
        "`keras.Model.predict` возвращает список списков — по одному списку для каждого предсказания в батче. Нам нужны предсказания только для одного изображения:"
      ]
    },
    {
      "cell_type": "code",
      "execution_count": 55,
      "metadata": {
        "colab": {
          "base_uri": "https://localhost:8080/"
        },
        "id": "2tRmdq_8CaXb",
        "outputId": "0aa7d808-99d1-42bd-fb6d-79f7a9f9ce64"
      },
      "outputs": [
        {
          "output_type": "execute_result",
          "data": {
            "text/plain": [
              "np.int64(9)"
            ]
          },
          "metadata": {},
          "execution_count": 55
        }
      ],
      "source": [
        "np.argmax(predictions_single[0])"
      ]
    },
    {
      "cell_type": "markdown",
      "metadata": {
        "id": "oiAdZfhLtMJ5"
      },
      "source": [
        "## **Проведем анализ работы модели по слоям**\n",
        "\n",
        "Состояние узлов в сети по эпохам (пакетам) и слоям можно оценить используя средства tensorflow через объект GradientTape() - исполняет шаг вычисления градиента для модели по ее loss для всех тренируемых весов модели (<имя модели>.trainable_weights) (см. https://www.tensorflow.org/guide/basic_training_loops, https://www.tensorflow.org/api_docs/python/tf/GradientTape)\n",
        "\n",
        "\n",
        "данные для обучения получим из tensorflow.data.Dataset (https://www.tensorflow.org/guide/data), куда передаем выборку , а на выходе получаем генератор пакетов заданного размера"
      ]
    },
    {
      "cell_type": "markdown",
      "metadata": {
        "id": "adqoo8fomCjR"
      },
      "source": [
        "Начнем с простого примера, который рассматривали на первом вебинаре, когда изучали граф вычислений.\n",
        "\n",
        "[Ссылка](https://docs.google.com/presentation/d/1Sfj8l91QFkFA6kMCe4CStCRDH5-pmfnZc8AEe8ujudg/edit) на презентацию."
      ]
    },
    {
      "cell_type": "markdown",
      "source": [
        "1. Взять батч объектов\n",
        "2. Получить предсказания модель на объктах\n",
        "3. Посчитать ошибку предсказания\n",
        "4. Посчитать градиенты\n",
        "5. Сделать шаг оптимизации"
      ],
      "metadata": {
        "id": "MP7ql79gKXjd"
      }
    },
    {
      "cell_type": "code",
      "execution_count": 56,
      "metadata": {
        "colab": {
          "base_uri": "https://localhost:8080/",
          "height": 356
        },
        "id": "YHeKOSYSwj-m",
        "outputId": "6f36565a-6186-4b73-8cef-077d60ab2838"
      },
      "outputs": [
        {
          "output_type": "error",
          "ename": "ValueError",
          "evalue": "Cannot convert '1' to a shape.",
          "traceback": [
            "\u001b[0;31m---------------------------------------------------------------------------\u001b[0m",
            "\u001b[0;31mValueError\u001b[0m                                Traceback (most recent call last)",
            "\u001b[0;32m<ipython-input-56-9db51c7c7fad>\u001b[0m in \u001b[0;36m<cell line: 0>\u001b[0;34m()\u001b[0m\n\u001b[0;32m----> 1\u001b[0;31m \u001b[0minputs\u001b[0m \u001b[0;34m=\u001b[0m \u001b[0mInput\u001b[0m\u001b[0;34m(\u001b[0m\u001b[0mshape\u001b[0m\u001b[0;34m=\u001b[0m\u001b[0;34m(\u001b[0m\u001b[0;36m1\u001b[0m\u001b[0;34m)\u001b[0m\u001b[0;34m)\u001b[0m\u001b[0;34m\u001b[0m\u001b[0;34m\u001b[0m\u001b[0m\n\u001b[0m\u001b[1;32m      2\u001b[0m \u001b[0moutputs\u001b[0m \u001b[0;34m=\u001b[0m \u001b[0mDense\u001b[0m\u001b[0;34m(\u001b[0m\u001b[0;36m1\u001b[0m\u001b[0;34m,\u001b[0m \u001b[0mactivation\u001b[0m\u001b[0;34m=\u001b[0m\u001b[0;34m'sigmoid'\u001b[0m\u001b[0;34m)\u001b[0m\u001b[0;34m(\u001b[0m\u001b[0minputs\u001b[0m\u001b[0;34m)\u001b[0m\u001b[0;34m\u001b[0m\u001b[0;34m\u001b[0m\u001b[0m\n\u001b[1;32m      3\u001b[0m \u001b[0mmodel_toy\u001b[0m \u001b[0;34m=\u001b[0m \u001b[0mModel\u001b[0m\u001b[0;34m(\u001b[0m\u001b[0minputs\u001b[0m\u001b[0;34m=\u001b[0m\u001b[0minputs\u001b[0m\u001b[0;34m,\u001b[0m \u001b[0moutputs\u001b[0m\u001b[0;34m=\u001b[0m\u001b[0moutputs\u001b[0m\u001b[0;34m)\u001b[0m\u001b[0;34m\u001b[0m\u001b[0;34m\u001b[0m\u001b[0m\n\u001b[1;32m      4\u001b[0m \u001b[0;34m\u001b[0m\u001b[0m\n\u001b[1;32m      5\u001b[0m \u001b[0;31m# Создадим экземпляр оптимизатора\u001b[0m\u001b[0;34m\u001b[0m\u001b[0;34m\u001b[0m\u001b[0m\n",
            "\u001b[0;32m/usr/local/lib/python3.11/dist-packages/keras/src/layers/core/input_layer.py\u001b[0m in \u001b[0;36mInput\u001b[0;34m(shape, batch_size, dtype, sparse, batch_shape, name, tensor, optional)\u001b[0m\n\u001b[1;32m    189\u001b[0m     \u001b[0;31m`\u001b[0m\u001b[0;31m`\u001b[0m\u001b[0;31m`\u001b[0m\u001b[0;34m\u001b[0m\u001b[0;34m\u001b[0m\u001b[0m\n\u001b[1;32m    190\u001b[0m     \"\"\"\n\u001b[0;32m--> 191\u001b[0;31m     layer = InputLayer(\n\u001b[0m\u001b[1;32m    192\u001b[0m         \u001b[0mshape\u001b[0m\u001b[0;34m=\u001b[0m\u001b[0mshape\u001b[0m\u001b[0;34m,\u001b[0m\u001b[0;34m\u001b[0m\u001b[0;34m\u001b[0m\u001b[0m\n\u001b[1;32m    193\u001b[0m         \u001b[0mbatch_size\u001b[0m\u001b[0;34m=\u001b[0m\u001b[0mbatch_size\u001b[0m\u001b[0;34m,\u001b[0m\u001b[0;34m\u001b[0m\u001b[0;34m\u001b[0m\u001b[0m\n",
            "\u001b[0;32m/usr/local/lib/python3.11/dist-packages/keras/src/layers/core/input_layer.py\u001b[0m in \u001b[0;36m__init__\u001b[0;34m(self, shape, batch_size, dtype, sparse, batch_shape, input_tensor, optional, name, **kwargs)\u001b[0m\n\u001b[1;32m     90\u001b[0m \u001b[0;34m\u001b[0m\u001b[0m\n\u001b[1;32m     91\u001b[0m             \u001b[0;32mif\u001b[0m \u001b[0mshape\u001b[0m \u001b[0;32mis\u001b[0m \u001b[0;32mnot\u001b[0m \u001b[0;32mNone\u001b[0m\u001b[0;34m:\u001b[0m\u001b[0;34m\u001b[0m\u001b[0;34m\u001b[0m\u001b[0m\n\u001b[0;32m---> 92\u001b[0;31m                 \u001b[0mshape\u001b[0m \u001b[0;34m=\u001b[0m \u001b[0mbackend\u001b[0m\u001b[0;34m.\u001b[0m\u001b[0mstandardize_shape\u001b[0m\u001b[0;34m(\u001b[0m\u001b[0mshape\u001b[0m\u001b[0;34m)\u001b[0m\u001b[0;34m\u001b[0m\u001b[0;34m\u001b[0m\u001b[0m\n\u001b[0m\u001b[1;32m     93\u001b[0m                 \u001b[0mbatch_shape\u001b[0m \u001b[0;34m=\u001b[0m \u001b[0;34m(\u001b[0m\u001b[0mbatch_size\u001b[0m\u001b[0;34m,\u001b[0m\u001b[0;34m)\u001b[0m \u001b[0;34m+\u001b[0m \u001b[0mshape\u001b[0m\u001b[0;34m\u001b[0m\u001b[0;34m\u001b[0m\u001b[0m\n\u001b[1;32m     94\u001b[0m \u001b[0;34m\u001b[0m\u001b[0m\n",
            "\u001b[0;32m/usr/local/lib/python3.11/dist-packages/keras/src/backend/common/variables.py\u001b[0m in \u001b[0;36mstandardize_shape\u001b[0;34m(shape)\u001b[0m\n\u001b[1;32m    560\u001b[0m             \u001b[0;32mraise\u001b[0m \u001b[0mValueError\u001b[0m\u001b[0;34m(\u001b[0m\u001b[0;34m\"Undefined shapes are not supported.\"\u001b[0m\u001b[0;34m)\u001b[0m\u001b[0;34m\u001b[0m\u001b[0;34m\u001b[0m\u001b[0m\n\u001b[1;32m    561\u001b[0m         \u001b[0;32mif\u001b[0m \u001b[0;32mnot\u001b[0m \u001b[0mhasattr\u001b[0m\u001b[0;34m(\u001b[0m\u001b[0mshape\u001b[0m\u001b[0;34m,\u001b[0m \u001b[0;34m\"__iter__\"\u001b[0m\u001b[0;34m)\u001b[0m\u001b[0;34m:\u001b[0m\u001b[0;34m\u001b[0m\u001b[0;34m\u001b[0m\u001b[0m\n\u001b[0;32m--> 562\u001b[0;31m             \u001b[0;32mraise\u001b[0m \u001b[0mValueError\u001b[0m\u001b[0;34m(\u001b[0m\u001b[0;34mf\"Cannot convert '{shape}' to a shape.\"\u001b[0m\u001b[0;34m)\u001b[0m\u001b[0;34m\u001b[0m\u001b[0;34m\u001b[0m\u001b[0m\n\u001b[0m\u001b[1;32m    563\u001b[0m         \u001b[0;32mif\u001b[0m \u001b[0mconfig\u001b[0m\u001b[0;34m.\u001b[0m\u001b[0mbackend\u001b[0m\u001b[0;34m(\u001b[0m\u001b[0;34m)\u001b[0m \u001b[0;34m==\u001b[0m \u001b[0;34m\"tensorflow\"\u001b[0m\u001b[0;34m:\u001b[0m\u001b[0;34m\u001b[0m\u001b[0;34m\u001b[0m\u001b[0m\n\u001b[1;32m    564\u001b[0m             \u001b[0;32mif\u001b[0m \u001b[0misinstance\u001b[0m\u001b[0;34m(\u001b[0m\u001b[0mshape\u001b[0m\u001b[0;34m,\u001b[0m \u001b[0mtf\u001b[0m\u001b[0;34m.\u001b[0m\u001b[0mTensorShape\u001b[0m\u001b[0;34m)\u001b[0m\u001b[0;34m:\u001b[0m\u001b[0;34m\u001b[0m\u001b[0;34m\u001b[0m\u001b[0m\n",
            "\u001b[0;31mValueError\u001b[0m: Cannot convert '1' to a shape."
          ]
        }
      ],
      "source": [
        "inputs = Input(shape=(1))\n",
        "outputs = Dense(1, activation='sigmoid')(inputs)\n",
        "model_toy = Model(inputs=inputs, outputs=outputs)\n",
        "\n",
        "# Создадим экземпляр оптимизатора\n",
        "optimizer = Adam(learning_rate=0.01)\n",
        "\n",
        "# Создадим экспемпляр функции потерь\n",
        "loss_fn = tf.keras.losses.MeanSquaredError()\n",
        "\n",
        "model_toy.summary()"
      ]
    },
    {
      "cell_type": "code",
      "execution_count": null,
      "metadata": {
        "id": "ao3JhVYEL5lp"
      },
      "outputs": [],
      "source": [
        "model_toy.get_weights()"
      ]
    },
    {
      "cell_type": "code",
      "execution_count": null,
      "metadata": {
        "id": "HlcF27r-eoAC"
      },
      "outputs": [],
      "source": [
        "# зададим начальные значения весов\n",
        "params = [np.empty(shape = (1,1), dtype = np.float32), np.empty(shape = (1,), dtype = np.float32)]\n",
        "params[0][0] = 0.417\n",
        "params[1][0] = 0.72\n",
        "\n",
        "model_toy.set_weights(params)\n",
        "model_toy.get_weights()"
      ]
    },
    {
      "cell_type": "code",
      "execution_count": null,
      "metadata": {
        "id": "4z69kC7OuVYz"
      },
      "outputs": [],
      "source": [
        "# вычисление сигмоид функции\n",
        "def sigmoid(x):\n",
        "    return 1 / (1 + np.exp(-x))\n",
        "\n",
        "X_toy = tf.constant([1.0])\n",
        "y_toy = tf.constant([1.0])\n",
        "\n",
        "#X_toy = tf.constant([0.0, 1.0])\n",
        "#y_toy = tf.constant([0.0, 1.0])\n",
        "\n",
        "\n",
        "for epoch in range(1):\n",
        "    # Откроем GradientTape чтобы записать операции\n",
        "    # выполняемые во время прямого прохода, включающего автодифференцирование\n",
        "    with tf.GradientTape() as tape:\n",
        "        # Запустим прямой проход слоя\n",
        "        pred = model_toy(X_toy)\n",
        "        print('Prediction is', pred.numpy())\n",
        "\n",
        "        # Вычислим значение потерь\n",
        "        loss_value = loss_fn(y_toy, pred)\n",
        "        print('Loss is', loss_value.numpy())\n",
        "\n",
        "        # Используем gradient tape для автоматического извлечения градиентов\n",
        "        # обучаемых переменных относительно потерь\n",
        "        grads = tape.gradient(loss_value, model_toy.trainable_weights)\n",
        "        print('Grad are', grads)\n",
        "\n",
        "\n",
        "    # Выполним один шаг градиентного спуска,\n",
        "    # обновив значение переменных минимизирующих потери\n",
        "    optimizer.apply_gradients(zip(grads, model_toy.trainable_weights))"
      ]
    },
    {
      "cell_type": "code",
      "execution_count": null,
      "metadata": {
        "id": "mhdCwrGLldAb"
      },
      "outputs": [],
      "source": [
        "model_toy.trainable_weights"
      ]
    },
    {
      "cell_type": "code",
      "source": [
        "model_toy.predict([1.0])"
      ],
      "metadata": {
        "id": "nyarYf_srsbd"
      },
      "execution_count": null,
      "outputs": []
    },
    {
      "cell_type": "code",
      "source": [],
      "metadata": {
        "id": "WiipfhsBrv-y"
      },
      "execution_count": null,
      "outputs": []
    },
    {
      "cell_type": "code",
      "source": [
        "################################################################################################################\n",
        "\n",
        "inputs = Input(shape=(1))\n",
        "outputs = Dense(1, activation='sigmoid')(inputs)\n",
        "model_toy = Model(inputs=inputs, outputs=outputs)\n",
        "\n",
        "# Создадим экземпляр оптимизатора\n",
        "optimizer = Adam(learning_rate=0.01)\n",
        "\n",
        "# Создадим экспемпляр функции потерь\n",
        "loss_fn = tf.keras.losses.MeanSquaredError()\n",
        "\n",
        "#model_toy.summary()\n",
        "\n",
        "################################################################################################################\n",
        "\n",
        "# зададим начальные значения весов\n",
        "params = [np.empty(shape = (1,1), dtype = np.float32), np.empty(shape = (1,), dtype = np.float32)]\n",
        "params[0][0] = 0.417\n",
        "params[1][0] = 0.72\n",
        "\n",
        "model_toy.set_weights(params)\n",
        "model_toy.get_weights()\n",
        "\n",
        "################################################################################################################\n",
        "\n",
        "\n",
        "# вычисление сигмоид функции\n",
        "def sigmoid(x):\n",
        "    return 1 / (1 + np.exp(-x))\n",
        "\n",
        "\n",
        "X_toy = tf.constant([1.0])\n",
        "y_toy = tf.constant([1.0])\n",
        "\n",
        "\n",
        "for epoch in range(100):\n",
        "    # Откроем GradientTape чтобы записать операции\n",
        "    # выполняемые во время прямого прохода, включающего автодифференцирование\n",
        "    with tf.GradientTape() as tape:\n",
        "        # Запустим прямой проход слоя\n",
        "        pred = model_toy(X_toy)\n",
        "        #print('Prediction is', pred.numpy())\n",
        "\n",
        "        # Вычислим значение потерь\n",
        "        loss_value = loss_fn(y_toy, pred)\n",
        "        #print('Loss is', loss_value.numpy())\n",
        "\n",
        "        # Используем gradient tape для автоматического извлечения градиентов\n",
        "        # обучаемых переменных относительно потерь\n",
        "        grads = tape.gradient(loss_value, model_toy.trainable_weights)\n",
        "        #print('Grad are', grads)\n",
        "\n",
        "\n",
        "    # Выполним один шаг градиентного спуска,\n",
        "    # обновив значение переменных минимизирующих потери\n",
        "    optimizer.apply_gradients(zip(grads, model_toy.trainable_weights))\n",
        "\n",
        "################################################################################################################\n",
        "\n",
        "model_toy.predict([1.0])"
      ],
      "metadata": {
        "id": "yk4EoJbLrwB5"
      },
      "execution_count": null,
      "outputs": []
    },
    {
      "cell_type": "code",
      "source": [],
      "metadata": {
        "id": "sSllVRByrwFb"
      },
      "execution_count": null,
      "outputs": []
    },
    {
      "cell_type": "code",
      "source": [],
      "metadata": {
        "id": "M-O8RY33rwIa"
      },
      "execution_count": null,
      "outputs": []
    },
    {
      "cell_type": "code",
      "source": [
        "################################################################################################################\n",
        "\n",
        "inputs = Input(shape=(1))\n",
        "outputs = Dense(1, activation='sigmoid')(inputs)\n",
        "model_toy = Model(inputs=inputs, outputs=outputs)\n",
        "\n",
        "# Создадим экземпляр оптимизатора\n",
        "optimizer = Adam(learning_rate=0.01)\n",
        "\n",
        "# Создадим экспемпляр функции потерь\n",
        "loss_fn = tf.keras.losses.MeanSquaredError()\n",
        "\n",
        "#model_toy.summary()\n",
        "\n",
        "################################################################################################################\n",
        "\n",
        "# зададим начальные значения весов\n",
        "params = [np.empty(shape = (1,1), dtype = np.float32), np.empty(shape = (1,), dtype = np.float32)]\n",
        "params[0][0] = 0.417\n",
        "params[1][0] = 0.72\n",
        "\n",
        "model_toy.set_weights(params)\n",
        "model_toy.get_weights()\n",
        "\n",
        "################################################################################################################\n",
        "\n",
        "\n",
        "# вычисление сигмоид функции\n",
        "def sigmoid(x):\n",
        "    return 1 / (1 + np.exp(-x))\n",
        "\n",
        "\n",
        "X_toy = tf.constant([0.0, 1.0])\n",
        "y_toy = tf.constant([0.0, 1.0])\n",
        "\n",
        "\n",
        "for epoch in range(1):\n",
        "    # Откроем GradientTape чтобы записать операции\n",
        "    # выполняемые во время прямого прохода, включающего автодифференцирование\n",
        "    with tf.GradientTape() as tape:\n",
        "        # Запустим прямой проход слоя\n",
        "        pred = model_toy(X_toy)\n",
        "        print('Prediction is', pred.numpy())\n",
        "\n",
        "        # Вычислим значение потерь\n",
        "        loss_value = loss_fn(y_toy, pred)\n",
        "        print('Loss is', loss_value.numpy())\n",
        "\n",
        "        # Используем gradient tape для автоматического извлечения градиентов\n",
        "        # обучаемых переменных относительно потерь\n",
        "        grads = tape.gradient(loss_value, model_toy.trainable_weights)\n",
        "        print('Grad are', grads)\n",
        "\n",
        "\n",
        "    # Выполним один шаг градиентного спуска,\n",
        "    # обновив значение переменных минимизирующих потери\n",
        "    optimizer.apply_gradients(zip(grads, model_toy.trainable_weights))\n",
        "\n",
        "################################################################################################################\n",
        "\n",
        "model_toy.predict([0.0, 1.0])"
      ],
      "metadata": {
        "id": "JL3xgElGrtTx"
      },
      "execution_count": null,
      "outputs": []
    },
    {
      "cell_type": "code",
      "execution_count": null,
      "metadata": {
        "id": "8pvPjKb9-mxY"
      },
      "outputs": [],
      "source": []
    },
    {
      "cell_type": "code",
      "source": [
        "################################################################################################################\n",
        "\n",
        "inputs = Input(shape=(1))\n",
        "outputs = Dense(1, activation='sigmoid')(inputs)\n",
        "model_toy = Model(inputs=inputs, outputs=outputs)\n",
        "\n",
        "# Создадим экземпляр оптимизатора\n",
        "optimizer = Adam(learning_rate=0.01)\n",
        "\n",
        "# Создадим экспемпляр функции потерь\n",
        "loss_fn = tf.keras.losses.MeanSquaredError()\n",
        "\n",
        "#model_toy.summary()\n",
        "\n",
        "################################################################################################################\n",
        "\n",
        "# зададим начальные значения весов\n",
        "params = [np.empty(shape = (1,1), dtype = np.float32), np.empty(shape = (1,), dtype = np.float32)]\n",
        "params[0][0] = 0.417\n",
        "params[1][0] = 0.72\n",
        "\n",
        "model_toy.set_weights(params)\n",
        "model_toy.get_weights()\n",
        "\n",
        "################################################################################################################\n",
        "\n",
        "\n",
        "# вычисление сигмоид функции\n",
        "def sigmoid(x):\n",
        "    return 1 / (1 + np.exp(-x))\n",
        "\n",
        "\n",
        "X_toy = tf.constant([0.0, 1.0])\n",
        "y_toy = tf.constant([0.0, 1.0])\n",
        "\n",
        "\n",
        "for epoch in range(1000):\n",
        "    # Откроем GradientTape чтобы записать операции\n",
        "    # выполняемые во время прямого прохода, включающего автодифференцирование\n",
        "    with tf.GradientTape() as tape:\n",
        "        # Запустим прямой проход слоя\n",
        "        pred = model_toy(X_toy)\n",
        "        #print('Prediction is', pred.numpy())\n",
        "\n",
        "        # Вычислим значение потерь\n",
        "        loss_value = loss_fn(y_toy, pred)\n",
        "        #print('Loss is', loss_value.numpy())\n",
        "\n",
        "        # Используем gradient tape для автоматического извлечения градиентов\n",
        "        # обучаемых переменных относительно потерь\n",
        "        grads = tape.gradient(loss_value, model_toy.trainable_weights)\n",
        "        #print('Grad are', grads)\n",
        "\n",
        "\n",
        "    # Выполним один шаг градиентного спуска,\n",
        "    # обновив значение переменных минимизирующих потери\n",
        "    optimizer.apply_gradients(zip(grads, model_toy.trainable_weights))\n",
        "\n",
        "################################################################################################################\n",
        "\n",
        "model_toy.predict([0.0, 1.0])"
      ],
      "metadata": {
        "id": "r2nAHrkWswUh"
      },
      "execution_count": null,
      "outputs": []
    },
    {
      "cell_type": "code",
      "source": [],
      "metadata": {
        "id": "DoaiX6xBswXb"
      },
      "execution_count": null,
      "outputs": []
    },
    {
      "cell_type": "code",
      "source": [],
      "metadata": {
        "id": "No7w5MdWswah"
      },
      "execution_count": null,
      "outputs": []
    },
    {
      "cell_type": "markdown",
      "metadata": {
        "id": "H94Am0OOmdk9"
      },
      "source": [
        "Теперь возвращаемся к примеру с картинками."
      ]
    },
    {
      "cell_type": "code",
      "execution_count": null,
      "metadata": {
        "id": "OCMo1w13mswi"
      },
      "outputs": [],
      "source": [
        "# собираем сеть\n",
        "level = 2\n",
        "\n",
        "inputs = Input(shape=(28, 28, 1), name='fashion')\n",
        "x = Flatten()(inputs)\n",
        "\n",
        "for i in range(level):\n",
        "    x = Dense(64, activation='sigmoid', name=f'dense_{i}')(x)\n",
        "\n",
        "\n",
        "outputs = Dense(10, activation='sigmoid', name='predictions')(x)\n",
        "modelg = Model(inputs=inputs, outputs=outputs)\n",
        "modelg.summary()"
      ]
    },
    {
      "cell_type": "code",
      "execution_count": null,
      "metadata": {
        "id": "N_SOf1L5pLNw"
      },
      "outputs": [],
      "source": [
        "# Создадим экземпляр оптимизатора\n",
        "optimizer = Adam(learning_rate=1e-3)\n",
        "\n",
        "# Создадим экспемпляр функции потерь\n",
        "loss_fn = tf.keras.losses.CategoricalCrossentropy()\n",
        "\n",
        "# Подготовим тренировочный датасет\n",
        "batch_size = 64\n",
        "train_dataset = tf.data.Dataset.from_tensor_slices((X_train, y_train))\n",
        "train_dataset = train_dataset.shuffle(buffer_size=X_train.shape[0]).batch(batch_size)"
      ]
    },
    {
      "cell_type": "code",
      "execution_count": null,
      "metadata": {
        "id": "iVBfZM_0M6Ds"
      },
      "outputs": [],
      "source": [
        "for batch in train_dataset:\n",
        "    print('Shape of images', batch[0].shape)\n",
        "    print('Shape of labels', batch[1].shape)\n",
        "    break"
      ]
    },
    {
      "cell_type": "code",
      "execution_count": null,
      "metadata": {
        "id": "MCylIliIpcSK"
      },
      "outputs": [],
      "source": [
        "# Итерируем по эпохам\n",
        "grad_log = []\n",
        "\n",
        "epochs = 2  # учим немного, т.к. задача посмотреть , что происходит с градиентом\n",
        "\n",
        "for epoch in range(epochs):\n",
        "    print(f'\\nНачинаем эпоху {epoch}')\n",
        "\n",
        "    # Итерируем по батчам в датасете\n",
        "    for step, (x_batch_train, y_batch_train) in enumerate(train_dataset):\n",
        "\n",
        "        # Откроем GradientTape чтобы записать операции\n",
        "        # выполняемые во время прямого прохода, включающего автодифференцирование\n",
        "        with tf.GradientTape() as tape:\n",
        "            # Запустим прямой проход слоя\n",
        "            preds = modelg(x_batch_train)\n",
        "\n",
        "            # Вычислим значение потерь для этого батча\n",
        "            loss_value = loss_fn(y_batch_train, preds)\n",
        "\n",
        "            # Используем gradient tape для автоматического извлечения градиентов\n",
        "            # обучаемых переменных относительно потерь\n",
        "            grads = tape.gradient(loss_value, modelg.trainable_weights)\n",
        "            g_g = []\n",
        "\n",
        "            # пишем логи для сохранения значений градиента и веса по одной цепи\n",
        "            for g_s in grads:\n",
        "                # допишем логи значений градиента в зависимости от размера тензора градиента\n",
        "                # if len(g_s.numpy().shape) == 1:\n",
        "                #     g_g.append(g_s.numpy()[0])\n",
        "                if len(g_s.numpy().shape) == 2:\n",
        "                    g_g.append(g_s.numpy()[0, 0])\n",
        "\n",
        "\n",
        "        # добавляем текущие логи по слоям к общей записи\n",
        "        grad_log.append(g_g)\n",
        "\n",
        "        # Выполним один шаг градиентного спуска,\n",
        "        # обновив значение переменных минимизирующих потери\n",
        "        optimizer.apply_gradients(zip(grads, modelg.trainable_weights))\n",
        "\n",
        "        # Пишем лог каждые 200 шагов\n",
        "        if step % 200 == 0:\n",
        "            print(f'Эпоха {epoch + 1}/{epochs}', end='. ')\n",
        "            print(f'Шаг {step}. Лосс на обучении (для одного батча) на шаге: {loss_value}')\n",
        "            print(f'Уже увидели: {(step + 1) * batch_size} примеров')"
      ]
    },
    {
      "cell_type": "code",
      "execution_count": null,
      "metadata": {
        "id": "PN7GXEPBri2u"
      },
      "outputs": [],
      "source": [
        "grad_log = np.array(grad_log)\n",
        "\n",
        "plt.figure(figsize=(16, 5))\n",
        "plt.title('Градиент по слоям')\n",
        "plt.xlabel('№ layer')\n",
        "plt.ylabel('grad')\n",
        "plt.grid()\n",
        "plt.plot(np.abs(grad_log[0, :]), label='step 0')\n",
        "plt.plot(np.abs(grad_log[10, :]), label='step 10')\n",
        "plt.plot(np.abs(grad_log[100, :]), label='step 100')\n",
        "plt.plot(np.abs(grad_log[700, :]), label='step 700')\n",
        "plt.legend()\n",
        "plt.show()"
      ]
    },
    {
      "cell_type": "code",
      "source": [],
      "metadata": {
        "id": "2PkY-EEUtEEx"
      },
      "execution_count": null,
      "outputs": []
    },
    {
      "cell_type": "code",
      "source": [
        "#####################################################################################################################\n",
        "\n",
        "# собираем сеть\n",
        "level = 6\n",
        "inputs = Input(shape=(28, 28, 1), name='fashion')\n",
        "x = Flatten()(inputs)\n",
        "for i in range(level):\n",
        "    x = Dense(64, activation='sigmoid', name=f'dense_{i}')(x)\n",
        "outputs = Dense(10, activation='sigmoid', name='predictions')(x)\n",
        "modelg = Model(inputs=inputs, outputs=outputs)\n",
        "\n",
        "#####################################################################################################################\n",
        "\n",
        "# Создадим экземпляр оптимизатора\n",
        "optimizer = Adam(learning_rate=1e-3)\n",
        "\n",
        "# Создадим экспемпляр функции потерь\n",
        "loss_fn = tf.keras.losses.CategoricalCrossentropy()\n",
        "\n",
        "# Подготовим тренировочный датасет\n",
        "batch_size = 64\n",
        "train_dataset = tf.data.Dataset.from_tensor_slices((X_train, y_train))\n",
        "train_dataset = train_dataset.shuffle(buffer_size=X_train.shape[0]).batch(batch_size)\n",
        "\n",
        "\n",
        "#####################################################################################################################\n",
        "\n",
        "# Итерируем по эпохам\n",
        "grad_log = []\n",
        "\n",
        "epochs = 2  # учим немного, т.к. задача посмотреть , что происходит с градиентом\n",
        "\n",
        "for epoch in range(epochs):\n",
        "    print(f'\\nНачинаем эпоху {epoch}')\n",
        "\n",
        "    # Итерируем по батчам в датасете\n",
        "    for step, (x_batch_train, y_batch_train) in enumerate(train_dataset):\n",
        "\n",
        "        # Откроем GradientTape чтобы записать операции\n",
        "        # выполняемые во время прямого прохода, включающего автодифференцирование\n",
        "        with tf.GradientTape() as tape:\n",
        "            # Запустим прямой проход слоя\n",
        "            preds = modelg(x_batch_train)\n",
        "\n",
        "            # Вычислим значение потерь для этого батча\n",
        "            loss_value = loss_fn(y_batch_train, preds)\n",
        "\n",
        "            # Используем gradient tape для автоматического извлечения градиентов\n",
        "            # обучаемых переменных относительно потерь\n",
        "            grads = tape.gradient(loss_value, modelg.trainable_weights)\n",
        "            g_g = []\n",
        "\n",
        "            # пишем логи для сохранения значений градиента и веса по одной цепи\n",
        "            for g_s in grads:\n",
        "                # допишем логи значений градиента в зависимости от размера тензора градиента\n",
        "                # if len(g_s.numpy().shape) == 1:\n",
        "                #     g_g.append(g_s.numpy()[0])\n",
        "                if len(g_s.numpy().shape) == 2:\n",
        "                    g_g.append(g_s.numpy()[0, 0])\n",
        "\n",
        "\n",
        "        # добавляем текущие логи по слоям к общей записи\n",
        "        grad_log.append(g_g)\n",
        "\n",
        "        # Выполним один шаг градиентного спуска,\n",
        "        # обновив значение переменных минимизирующих потери\n",
        "        optimizer.apply_gradients(zip(grads, modelg.trainable_weights))\n",
        "\n",
        "        # Пишем лог каждые 200 шагов\n",
        "        if step % 200 == 0:\n",
        "            print(f'Эпоха {epoch + 1}/{epochs}', end='. ')\n",
        "            print(f'Шаг {step}. Лосс на обучении (для одного батча) на шаге: {loss_value}')\n",
        "            print(f'Уже увидели: {(step + 1) * batch_size} примеров')\n",
        "\n",
        "\n",
        "#####################################################################################################################\n",
        "\n",
        "grad_log = np.array(grad_log)\n",
        "\n",
        "plt.figure(figsize=(16, 5))\n",
        "plt.title('Градиент по слоям')\n",
        "plt.xlabel('№ layer')\n",
        "plt.ylabel('grad')\n",
        "plt.grid()\n",
        "plt.plot(np.abs(grad_log[0, :]), label='step 0')\n",
        "plt.plot(np.abs(grad_log[10, :]), label='step 10')\n",
        "plt.plot(np.abs(grad_log[100, :]), label='step 100')\n",
        "plt.plot(np.abs(grad_log[700, :]), label='step 700')\n",
        "plt.legend()\n",
        "plt.show()\n",
        "\n",
        "#####################################################################################################################"
      ],
      "metadata": {
        "id": "dWSYRrMNtEIW"
      },
      "execution_count": null,
      "outputs": []
    },
    {
      "cell_type": "code",
      "source": [],
      "metadata": {
        "id": "asPm38ZOtELi"
      },
      "execution_count": null,
      "outputs": []
    },
    {
      "cell_type": "code",
      "source": [
        "#####################################################################################################################\n",
        "\n",
        "# собираем сеть\n",
        "level = 2\n",
        "inputs = Input(shape=(28, 28, 1), name='fashion')\n",
        "x = Flatten()(inputs)\n",
        "for i in range(level):\n",
        "    x = Dense(64, activation='relu', name=f'dense_{i}')(x)\n",
        "outputs = Dense(10, activation='sigmoid', name='predictions')(x)\n",
        "modelg = Model(inputs=inputs, outputs=outputs)\n",
        "\n",
        "#####################################################################################################################\n",
        "\n",
        "# Создадим экземпляр оптимизатора\n",
        "optimizer = Adam(learning_rate=1e-3)\n",
        "\n",
        "# Создадим экспемпляр функции потерь\n",
        "loss_fn = tf.keras.losses.CategoricalCrossentropy()\n",
        "\n",
        "# Подготовим тренировочный датасет\n",
        "batch_size = 64\n",
        "train_dataset = tf.data.Dataset.from_tensor_slices((X_train, y_train))\n",
        "train_dataset = train_dataset.shuffle(buffer_size=X_train.shape[0]).batch(batch_size)\n",
        "\n",
        "\n",
        "#####################################################################################################################\n",
        "\n",
        "# Итерируем по эпохам\n",
        "grad_log = []\n",
        "\n",
        "epochs = 2  # учим немного, т.к. задача посмотреть , что происходит с градиентом\n",
        "\n",
        "for epoch in range(epochs):\n",
        "    print(f'\\nНачинаем эпоху {epoch}')\n",
        "\n",
        "    # Итерируем по батчам в датасете\n",
        "    for step, (x_batch_train, y_batch_train) in enumerate(train_dataset):\n",
        "\n",
        "        # Откроем GradientTape чтобы записать операции\n",
        "        # выполняемые во время прямого прохода, включающего автодифференцирование\n",
        "        with tf.GradientTape() as tape:\n",
        "            # Запустим прямой проход слоя\n",
        "            preds = modelg(x_batch_train)\n",
        "\n",
        "            # Вычислим значение потерь для этого батча\n",
        "            loss_value = loss_fn(y_batch_train, preds)\n",
        "\n",
        "            # Используем gradient tape для автоматического извлечения градиентов\n",
        "            # обучаемых переменных относительно потерь\n",
        "            grads = tape.gradient(loss_value, modelg.trainable_weights)\n",
        "            g_g = []\n",
        "\n",
        "            # пишем логи для сохранения значений градиента и веса по одной цепи\n",
        "            for g_s in grads:\n",
        "                # допишем логи значений градиента в зависимости от размера тензора градиента\n",
        "                # if len(g_s.numpy().shape) == 1:\n",
        "                #     g_g.append(g_s.numpy()[0])\n",
        "                if len(g_s.numpy().shape) == 2:\n",
        "                    g_g.append(g_s.numpy()[0, 0])\n",
        "\n",
        "\n",
        "        # добавляем текущие логи по слоям к общей записи\n",
        "        grad_log.append(g_g)\n",
        "\n",
        "        # Выполним один шаг градиентного спуска,\n",
        "        # обновив значение переменных минимизирующих потери\n",
        "        optimizer.apply_gradients(zip(grads, modelg.trainable_weights))\n",
        "\n",
        "        # Пишем лог каждые 200 шагов\n",
        "        if step % 200 == 0:\n",
        "            print(f'Эпоха {epoch + 1}/{epochs}', end='. ')\n",
        "            print(f'Шаг {step}. Лосс на обучении (для одного батча) на шаге: {loss_value}')\n",
        "            print(f'Уже увидели: {(step + 1) * batch_size} примеров')\n",
        "\n",
        "\n",
        "#####################################################################################################################\n",
        "\n",
        "grad_log = np.array(grad_log)\n",
        "\n",
        "plt.figure(figsize=(16, 5))\n",
        "plt.title('Градиент по слоям')\n",
        "plt.xlabel('№ layer')\n",
        "plt.ylabel('grad')\n",
        "plt.grid()\n",
        "plt.plot(np.abs(grad_log[0, :]), label='step 0')\n",
        "plt.plot(np.abs(grad_log[10, :]), label='step 10')\n",
        "plt.plot(np.abs(grad_log[100, :]), label='step 100')\n",
        "plt.plot(np.abs(grad_log[700, :]), label='step 700')\n",
        "plt.legend()\n",
        "plt.show()\n",
        "\n",
        "#####################################################################################################################"
      ],
      "metadata": {
        "id": "BbEjlAUTtEOT"
      },
      "execution_count": null,
      "outputs": []
    },
    {
      "cell_type": "code",
      "source": [],
      "metadata": {
        "id": "TTGWUO7xtERh"
      },
      "execution_count": null,
      "outputs": []
    },
    {
      "cell_type": "code",
      "source": [
        "#####################################################################################################################\n",
        "\n",
        "# собираем сеть\n",
        "level = 6\n",
        "inputs = Input(shape=(28, 28, 1), name='fashion')\n",
        "x = Flatten()(inputs)\n",
        "for i in range(level):\n",
        "    x = Dense(64, activation='relu', name=f'dense_{i}')(x)\n",
        "outputs = Dense(10, activation='sigmoid', name='predictions')(x)\n",
        "modelg = Model(inputs=inputs, outputs=outputs)\n",
        "\n",
        "#####################################################################################################################\n",
        "\n",
        "# Создадим экземпляр оптимизатора\n",
        "optimizer = Adam(learning_rate=1e-3)\n",
        "\n",
        "# Создадим экспемпляр функции потерь\n",
        "loss_fn = tf.keras.losses.CategoricalCrossentropy()\n",
        "\n",
        "# Подготовим тренировочный датасет\n",
        "batch_size = 64\n",
        "train_dataset = tf.data.Dataset.from_tensor_slices((X_train, y_train))\n",
        "train_dataset = train_dataset.shuffle(buffer_size=X_train.shape[0]).batch(batch_size)\n",
        "\n",
        "\n",
        "#####################################################################################################################\n",
        "\n",
        "# Итерируем по эпохам\n",
        "grad_log = []\n",
        "\n",
        "epochs = 2  # учим немного, т.к. задача посмотреть , что происходит с градиентом\n",
        "\n",
        "for epoch in range(epochs):\n",
        "    print(f'\\nНачинаем эпоху {epoch}')\n",
        "\n",
        "    # Итерируем по батчам в датасете\n",
        "    for step, (x_batch_train, y_batch_train) in enumerate(train_dataset):\n",
        "\n",
        "        # Откроем GradientTape чтобы записать операции\n",
        "        # выполняемые во время прямого прохода, включающего автодифференцирование\n",
        "        with tf.GradientTape() as tape:\n",
        "            # Запустим прямой проход слоя\n",
        "            preds = modelg(x_batch_train)\n",
        "\n",
        "            # Вычислим значение потерь для этого батча\n",
        "            loss_value = loss_fn(y_batch_train, preds)\n",
        "\n",
        "            # Используем gradient tape для автоматического извлечения градиентов\n",
        "            # обучаемых переменных относительно потерь\n",
        "            grads = tape.gradient(loss_value, modelg.trainable_weights)\n",
        "            g_g = []\n",
        "\n",
        "            # пишем логи для сохранения значений градиента и веса по одной цепи\n",
        "            for g_s in grads:\n",
        "                # допишем логи значений градиента в зависимости от размера тензора градиента\n",
        "                # if len(g_s.numpy().shape) == 1:\n",
        "                #     g_g.append(g_s.numpy()[0])\n",
        "                if len(g_s.numpy().shape) == 2:\n",
        "                    g_g.append(g_s.numpy()[0, 0])\n",
        "\n",
        "\n",
        "        # добавляем текущие логи по слоям к общей записи\n",
        "        grad_log.append(g_g)\n",
        "\n",
        "        # Выполним один шаг градиентного спуска,\n",
        "        # обновив значение переменных минимизирующих потери\n",
        "        optimizer.apply_gradients(zip(grads, modelg.trainable_weights))\n",
        "\n",
        "        # Пишем лог каждые 200 шагов\n",
        "        if step % 200 == 0:\n",
        "            print(f'Эпоха {epoch + 1}/{epochs}', end='. ')\n",
        "            print(f'Шаг {step}. Лосс на обучении (для одного батча) на шаге: {loss_value}')\n",
        "            print(f'Уже увидели: {(step + 1) * batch_size} примеров')\n",
        "\n",
        "\n",
        "#####################################################################################################################\n",
        "\n",
        "grad_log = np.array(grad_log)\n",
        "\n",
        "plt.figure(figsize=(16, 5))\n",
        "plt.title('Градиент по слоям')\n",
        "plt.xlabel('№ layer')\n",
        "plt.ylabel('grad')\n",
        "plt.grid()\n",
        "plt.plot(np.abs(grad_log[0, :]), label='step 0')\n",
        "plt.plot(np.abs(grad_log[10, :]), label='step 10')\n",
        "plt.plot(np.abs(grad_log[100, :]), label='step 100')\n",
        "plt.plot(np.abs(grad_log[700, :]), label='step 700')\n",
        "plt.legend()\n",
        "plt.show()\n",
        "\n",
        "#####################################################################################################################"
      ],
      "metadata": {
        "id": "mhc6MrTPt0KZ"
      },
      "execution_count": null,
      "outputs": []
    },
    {
      "cell_type": "code",
      "source": [],
      "metadata": {
        "id": "X1DH0gEit0PV"
      },
      "execution_count": null,
      "outputs": []
    },
    {
      "cell_type": "markdown",
      "metadata": {
        "id": "t3U0Cng8tDQg"
      },
      "source": [
        "Видим, что чем дальше слой от функции потерь, чем он ближе к началу, тем градиент становится меньше.\n",
        "\n",
        "Итого, если хочется более детально и низкоуровнево следить за обучением модели, нужно сделать следующие шаги:\n",
        "1. Взять батч объектов\n",
        "2. Получить предсказания модель на объктах\n",
        "3. Посчитать ошибку предсказания\n",
        "4. Посчитать градиенты\n",
        "5. Сделать шаг оптимизации"
      ]
    },
    {
      "cell_type": "markdown",
      "metadata": {
        "id": "Eh-unHPRwe7M"
      },
      "source": [
        "### Сделаем анализ ошибок модели"
      ]
    },
    {
      "cell_type": "code",
      "execution_count": null,
      "metadata": {
        "id": "5c6MdztxalDc"
      },
      "outputs": [],
      "source": [
        "from sklearn.metrics import confusion_matrix, ConfusionMatrixDisplay"
      ]
    },
    {
      "cell_type": "code",
      "execution_count": null,
      "metadata": {
        "id": "ApcYAUE4dr8q"
      },
      "outputs": [],
      "source": [
        "y_pred = np.argmax(modelg.predict(X_test), axis=1)\n",
        "y_pred[:10]"
      ]
    },
    {
      "cell_type": "code",
      "execution_count": null,
      "metadata": {
        "id": "DG7c3AV9ekyg"
      },
      "outputs": [],
      "source": [
        "CM = confusion_matrix(y_test_labels, y_pred)\n",
        "print(CM)"
      ]
    },
    {
      "cell_type": "code",
      "execution_count": null,
      "metadata": {
        "id": "V2kt2VW0i82L"
      },
      "outputs": [],
      "source": [
        "disp = ConfusionMatrixDisplay(confusion_matrix=CM, display_labels=class_names)\n",
        "\n",
        "fig, ax = plt.subplots(figsize=(10, 10))\n",
        "disp.plot(values_format='.3g', ax=ax)\n",
        "plt.xticks(rotation=70)\n",
        "plt.show();"
      ]
    },
    {
      "cell_type": "markdown",
      "metadata": {
        "id": "FEq8mmOM3knb"
      },
      "source": [
        "Сеть делает ошибки. Можно их попробовать исправить, если сделать комбинацию сетей (ансамбль) . Проверим вариант усреднения."
      ]
    },
    {
      "cell_type": "markdown",
      "metadata": {
        "id": "f_dWDPIIuE6e"
      },
      "source": [
        "# **Ансамбль сетей**\n",
        "\n",
        "Использование функционального API для построения сложных сетей"
      ]
    },
    {
      "cell_type": "markdown",
      "metadata": {
        "id": "hcSnl7L5FzTA"
      },
      "source": [
        "Нейросеть при хорошо подобранных параметрах должна была выдать корректное предсказание\n",
        "\n",
        "\n",
        "Реализуем одинаковые сети в разном стиле:\n",
        "- model1 - линейная модель через список\n",
        "- model2 - линейная модель через добавление слоев по очереди\n",
        "- model3 - модель через функциональное описание\n"
      ]
    },
    {
      "cell_type": "code",
      "execution_count": null,
      "metadata": {
        "id": "mubsCHw0p81r"
      },
      "outputs": [],
      "source": [
        "# заполняем модель списком\n",
        "model1 = Sequential([\n",
        "    Flatten(input_shape=(28, 28)),\n",
        "    Dense(128, activation='relu'),\n",
        "    Dense(10, activation='softmax')\n",
        "])\n",
        "\n",
        "# заполняем модель, добавляя слои последовательно\n",
        "model2 = Sequential()\n",
        "model2.add(Flatten(input_shape=(28, 28)))\n",
        "model2.add(Dense(256, activation='relu'))\n",
        "model2.add(Dense(10, activation='softmax'))\n",
        "\n",
        "\n",
        "# Заполняем модель, формируя граф передачи тензоров\n",
        "input = Input(shape=(28, 28))\n",
        "x = Flatten()(input)\n",
        "x = Dense(256, activation='relu')(x)\n",
        "output = Dense(10, activation='softmax')(x)\n",
        "model3 = Model(input, output)"
      ]
    },
    {
      "cell_type": "markdown",
      "metadata": {
        "id": "c2yLQbLup-vN"
      },
      "source": [
        "### Функции потерь"
      ]
    },
    {
      "cell_type": "markdown",
      "metadata": {
        "id": "nMZjD7ubqLJL"
      },
      "source": [
        "1. Абсолютная\n",
        "$$L(y, \\hat{y}) = |y - \\hat{y}|$$\n",
        "2. Квадратичная\n",
        "$$L(y, \\hat{y}) = (y - \\hat{y})^2$$\n",
        "3. Бинарная кросс-энтропия (BinaryCrossentropy)\n",
        "$$L(y, \\hat{y}) = -\\frac{1}{N}(y\\log(\\hat{y}) + (1 - y)\\log(1-\\hat{y}))$$\n",
        "\n",
        "4. Категориальная кросс-энтропия (CategoricalCrossentropy, Softmax Loss)<br>\n",
        "Функция ожидает метки классов в формате One-hot-encoding.\n",
        "$$CE = - \\log \\frac{e_i}{\\sum_j^C{e_j}}$$\n",
        "\n",
        "5. Спарс категориальная кросс-энтропия (SparseCategoricalCrossentropy)<br>\n",
        "Функция ожидает метки классов в формате Label-encoding."
      ]
    },
    {
      "cell_type": "code",
      "execution_count": null,
      "metadata": {
        "id": "pyurjN_EJN9P"
      },
      "outputs": [],
      "source": [
        "model1.compile(optimizer='sgd',\n",
        "               loss=SparseCategoricalCrossentropy(),\n",
        "               metrics=['accuracy'])\n",
        "model2.compile(optimizer='rmsprop',\n",
        "               loss=SparseCategoricalCrossentropy(),\n",
        "               metrics=['accuracy'])\n",
        "model3.compile(optimizer='adam',\n",
        "               loss=SparseCategoricalCrossentropy(),\n",
        "               metrics=['accuracy'])\n",
        "\n",
        "\n",
        "hist1 = model1.fit(X_train, y_train_labels,\n",
        "                   epochs=5,\n",
        "                   batch_size=256,\n",
        "                   validation_data=(X_test, y_test_labels))\n",
        "print()\n",
        "hist2 = model2.fit(X_train, y_train_labels,\n",
        "                   epochs=5,\n",
        "                   batch_size=256,\n",
        "                   validation_data=(X_test, y_test_labels))\n",
        "print()\n",
        "hist3 = model3.fit(X_train, y_train_labels,\n",
        "                   epochs=5,\n",
        "                   batch_size=256,\n",
        "                   validation_data=(X_test, y_test_labels))"
      ]
    },
    {
      "cell_type": "code",
      "execution_count": null,
      "metadata": {
        "id": "N8SMebNEMi37"
      },
      "outputs": [],
      "source": [
        "plt.plot(hist1.history['val_accuracy'], label='model1 acc sgd')\n",
        "plt.plot(hist2.history['val_accuracy'], label='model2 acc rmsprop')\n",
        "plt.plot(hist3.history['val_accuracy'], label='model3 acc adam')\n",
        "plt.title('точность сетей от эпох')\n",
        "plt.xlabel('эпоха')\n",
        "plt.legend()\n",
        "plt.show()"
      ]
    },
    {
      "cell_type": "code",
      "execution_count": null,
      "metadata": {
        "id": "iD4oM4JhPHWn"
      },
      "outputs": [],
      "source": [
        "y_pred1 = np.argmax(model1.predict(X_test), axis=1)\n",
        "y_pred2 = np.argmax(model2.predict(X_test), axis=1)\n",
        "y_pred3 = np.argmax(model3.predict(X_test), axis=1)\n",
        "\n",
        "CM1 = confusion_matrix(y_test_labels, y_pred1)\n",
        "CM2 = confusion_matrix(y_test_labels, y_pred2)\n",
        "CM3 = confusion_matrix(y_test_labels, y_pred3)"
      ]
    },
    {
      "cell_type": "code",
      "execution_count": null,
      "metadata": {
        "id": "_3DBsXLN-Q2T"
      },
      "outputs": [],
      "source": [
        "fig, (ax1, ax2, ax3) = plt.subplots(1, 3, figsize=(20, 6))\n",
        "\n",
        "disp1 = ConfusionMatrixDisplay(confusion_matrix=CM1, display_labels=class_names)\n",
        "disp1.plot(ax=ax1, values_format='.3g')\n",
        "plt.setp(ax1.xaxis.get_majorticklabels(), rotation=70)\n",
        "\n",
        "disp2 = ConfusionMatrixDisplay(confusion_matrix=CM2, display_labels=class_names)\n",
        "disp2.plot(ax=ax2, values_format='.3g')\n",
        "plt.setp(ax2.xaxis.get_majorticklabels(), rotation=70)\n",
        "\n",
        "disp3 = ConfusionMatrixDisplay(confusion_matrix=CM3, display_labels=class_names)\n",
        "disp3.plot(ax=ax3, values_format='.3g')\n",
        "plt.xticks(rotation=70)\n",
        "\n",
        "plt.show()"
      ]
    },
    {
      "cell_type": "code",
      "execution_count": null,
      "metadata": {
        "id": "stCJv8cZMQZf"
      },
      "outputs": [],
      "source": [
        "# сохранить модели на диск.\n",
        "model1.save('model1.h5')\n",
        "model2.save('model2.h5')\n",
        "model3.save('model3.h5')\n",
        "\n",
        "# прочитать модели с диска\n",
        "# model = load_model('model.h5')"
      ]
    },
    {
      "cell_type": "markdown",
      "metadata": {
        "id": "RP9nm6V6qS7q"
      },
      "source": [
        "Сделаем предсказание на тестовом изображении"
      ]
    },
    {
      "cell_type": "code",
      "execution_count": null,
      "metadata": {
        "id": "QvkvodqxWmVn"
      },
      "outputs": [],
      "source": [
        "y_pred_proba = model3.predict(X_test)\n",
        "y_pred = np.argmax(y_pred_proba, axis=1)"
      ]
    },
    {
      "cell_type": "markdown",
      "metadata": {
        "id": "b2WJFW5kqagU"
      },
      "source": [
        "Отобразим значения на выходах сети (10 выходов - 10 точек графика)"
      ]
    },
    {
      "cell_type": "code",
      "execution_count": null,
      "metadata": {
        "id": "EF18AOsTbsih"
      },
      "outputs": [],
      "source": [
        "N = 10\n",
        "plt.plot(y_pred_proba[N, :])\n",
        "plt.title(f'объект {class_names[y_test_labels[N]]} #{str(y_test_labels[N])}')\n",
        "plt.xlabel('номер выхода сети')\n",
        "plt.ylabel('значение на выходе')\n",
        "plt.show()"
      ]
    },
    {
      "cell_type": "code",
      "execution_count": null,
      "metadata": {
        "id": "K0cGPgqBc-sb"
      },
      "outputs": [],
      "source": [
        "test_loss, test_acc = model1.evaluate(X_test, y_test_labels, verbose=2)\n",
        "test_loss, test_acc = model2.evaluate(X_test, y_test_labels, verbose=2)\n",
        "test_loss, test_acc = model3.evaluate(X_test, y_test_labels, verbose=2)"
      ]
    },
    {
      "cell_type": "markdown",
      "metadata": {
        "id": "2TQpdoQi26b8"
      },
      "source": [
        "Усреднение моделей"
      ]
    },
    {
      "cell_type": "code",
      "execution_count": null,
      "metadata": {
        "id": "3cJ-0N8Es0gB"
      },
      "outputs": [],
      "source": [
        "input = Input(shape=(28, 28))\n",
        "flat = Flatten()(input)\n",
        "\n",
        "x1 = Dense(128, activation='relu')(flat)\n",
        "x1 = Dense(10, activation='softmax')(x1)\n",
        "model1 = Model(inputs=input, outputs=x1)\n",
        "\n",
        "\n",
        "x2 = Dense(256, activation='relu')(flat)\n",
        "x2 = Dense(10, activation='softmax')(x2)\n",
        "model2 = Model(inputs=input, outputs=x2)\n",
        "\n",
        "\n",
        "x3 = Dense(256, activation='relu')(flat)\n",
        "x3 = Dense(10, activation='softmax')(x3)\n",
        "model3 = Model(inputs=input, outputs=x3)\n",
        "\n",
        "\n",
        "# усредняем выходы сетей\n",
        "out_all = tf.keras.layers.Average()([model1.output, model2.output, model3.output])\n",
        "out_all = tf.keras.layers.Softmax()(out_all)\n",
        "\n",
        "model_all = Model(inputs=[input], outputs=out_all)\n",
        "model_all.compile(optimizer='adam',\n",
        "                  loss=SparseCategoricalCrossentropy(from_logits=True),\n",
        "                  metrics=['accuracy'])\n",
        "\n",
        "\n",
        "model1.load_weights('model1.h5')\n",
        "model2.load_weights('model2.h5')\n",
        "model3.load_weights('model3.h5')"
      ]
    },
    {
      "cell_type": "code",
      "execution_count": null,
      "metadata": {
        "id": "uyUsa1Afs6cW"
      },
      "outputs": [],
      "source": [
        "model_all.summary()"
      ]
    },
    {
      "cell_type": "code",
      "execution_count": null,
      "metadata": {
        "id": "ET_usPF9ejrP"
      },
      "outputs": [],
      "source": [
        "from tensorflow.keras.utils import plot_model\n",
        "plot_model(model_all)"
      ]
    },
    {
      "cell_type": "code",
      "execution_count": null,
      "metadata": {
        "id": "9nqTRLVhts6i"
      },
      "outputs": [],
      "source": [
        "predictions_single = model_all.predict(imgs)\n",
        "predictions_single"
      ]
    },
    {
      "cell_type": "code",
      "execution_count": null,
      "metadata": {
        "id": "ZRejlxRetwpq"
      },
      "outputs": [],
      "source": [
        "plot_value_array(0, predictions_single, y_test_labels)\n",
        "_ = plt.xticks(range(10), class_names, rotation=45)"
      ]
    },
    {
      "cell_type": "code",
      "execution_count": null,
      "metadata": {
        "id": "OnUoZIIgt10d"
      },
      "outputs": [],
      "source": [
        "test_loss, test_acc = model_all.evaluate(X_test, y_test_labels, verbose=2)"
      ]
    },
    {
      "cell_type": "code",
      "execution_count": null,
      "metadata": {
        "id": "IkT0L8D-Oi4x"
      },
      "outputs": [],
      "source": [
        "y_pred_all = np.argmax(model_all.predict(X_test), axis=1)\n",
        "\n",
        "CM_all = confusion_matrix(y_test_labels, y_pred_all)\n",
        "disp_all = ConfusionMatrixDisplay(confusion_matrix=CM_all, display_labels=np.arange(10))\n",
        "disp_all.plot(values_format ='.3g')\n",
        "plt.show()"
      ]
    },
    {
      "cell_type": "code",
      "execution_count": null,
      "metadata": {
        "id": "ieChLpxhBicr"
      },
      "outputs": [],
      "source": [
        "hist1 = model_all.fit(X_train, y_train_labels,\n",
        "                      epochs=5,\n",
        "                      batch_size=256,\n",
        "                      validation_data=(X_test, y_test_labels))"
      ]
    },
    {
      "cell_type": "code",
      "execution_count": null,
      "metadata": {
        "id": "Z1O8A5dlBfq0"
      },
      "outputs": [],
      "source": [
        "y_pred_all = np.argmax(model_all.predict(X_test), axis=1)\n",
        "\n",
        "CM_all = confusion_matrix(y_test_labels, y_pred_all)\n",
        "disp_all = ConfusionMatrixDisplay(confusion_matrix=CM_all, display_labels=np.arange(10))\n",
        "disp_all.plot(values_format ='.3g')\n",
        "plt.show()"
      ]
    },
    {
      "cell_type": "code",
      "execution_count": null,
      "metadata": {
        "id": "62dsQKqQ12tn"
      },
      "outputs": [],
      "source": [
        "test_loss, test_acc = model_all.evaluate(X_test, y_test_labels, verbose=2)"
      ]
    },
    {
      "cell_type": "markdown",
      "metadata": {
        "id": "DyHBq-pP3Iqn"
      },
      "source": [
        "## Дообучение"
      ]
    },
    {
      "cell_type": "markdown",
      "metadata": {
        "id": "bNM2ojaL3Ahr"
      },
      "source": [
        "Обучение только новых слоев. Старые слои моделей замораживаем и не обучаем."
      ]
    },
    {
      "cell_type": "code",
      "execution_count": null,
      "metadata": {
        "id": "eAJ0gHjr3Ekp"
      },
      "outputs": [],
      "source": [
        "input = Input(shape=(28, 28))\n",
        "flat = Flatten()(input)\n",
        "\n",
        "x1 = Dense(128, activation='relu')(flat)\n",
        "x1 = Dense(10, activation='softmax')(x1)\n",
        "model1 = Model(inputs=input, outputs=x1)\n",
        "# не обучаем слои модели\n",
        "for layer in model1.layers:\n",
        "    layer.trainable = False\n",
        "\n",
        "\n",
        "x2 = Dense(256, activation='relu')(flat)\n",
        "x2 = Dense(10, activation='softmax')(x2)\n",
        "model2 = Model(inputs=input, outputs=x2)\n",
        "# не обучаем слои модели\n",
        "for layer in model2.layers:\n",
        "    layer.trainable = False\n",
        "\n",
        "\n",
        "x3 = Dense(256, activation='relu')(flat)\n",
        "x3 = Dense(10, activation='softmax')(x3)\n",
        "model3 = Model(inputs=input, outputs=x3)\n",
        "# не обучаем слои модели\n",
        "for layer in model3.layers:\n",
        "    layer.trainable = False\n",
        "\n",
        "\n",
        "# усредняем выходы сетей\n",
        "out_all = tf.keras.layers.Average()([model1.output, model2.output, model3.output])\n",
        "# добавляем новый обучаемый слой\n",
        "# out_all = Dense(10, activation='relu')(out_all)\n",
        "\n",
        "out_all = tf.keras.layers.Softmax()(out_all)\n",
        "\n",
        "model_all = Model(inputs=[input], outputs=out_all)\n",
        "model_all.compile(optimizer='adam',\n",
        "                  loss=SparseCategoricalCrossentropy(),\n",
        "                  metrics=['accuracy'])\n",
        "\n",
        "\n",
        "model1.load_weights('model1.h5')\n",
        "model2.load_weights('model2.h5')\n",
        "model3.load_weights('model3.h5')\n",
        "\n",
        "model_all.summary()"
      ]
    },
    {
      "cell_type": "code",
      "execution_count": null,
      "metadata": {
        "id": "dwwrnJ1oLsiy"
      },
      "outputs": [],
      "source": [
        "test_loss, test_acc = model_all.evaluate(X_test, y_test_labels, verbose=2)"
      ]
    },
    {
      "cell_type": "code",
      "execution_count": null,
      "metadata": {
        "id": "J0HcltPZ5St9"
      },
      "outputs": [],
      "source": [
        "for layer in model_all.layers[:]:\n",
        "    layer.trainable = True\n",
        "\n",
        "model_all.summary()"
      ]
    },
    {
      "cell_type": "code",
      "execution_count": null,
      "metadata": {
        "id": "N70FViQIWFVh"
      },
      "outputs": [],
      "source": [
        "model_all.compile(optimizer='adam',\n",
        "                  loss=SparseCategoricalCrossentropy(),\n",
        "                  metrics=['accuracy'])"
      ]
    },
    {
      "cell_type": "code",
      "execution_count": null,
      "metadata": {
        "id": "qeWqYkYU45wG"
      },
      "outputs": [],
      "source": [
        "hist1 = model_all.fit(X_train, y_train_labels,\n",
        "                      epochs=10,\n",
        "                      batch_size=256,\n",
        "                      validation_data=(X_test, y_test_labels))"
      ]
    },
    {
      "cell_type": "code",
      "execution_count": null,
      "metadata": {
        "id": "s35vELls45nW"
      },
      "outputs": [],
      "source": [
        "test_loss, test_acc = model_all.evaluate(X_test, y_test_labels, verbose=2)"
      ]
    },
    {
      "cell_type": "code",
      "execution_count": null,
      "metadata": {
        "id": "84IeaSup6PqQ"
      },
      "outputs": [],
      "source": [
        "model_all.save('model_all.h5')"
      ]
    },
    {
      "cell_type": "code",
      "execution_count": null,
      "metadata": {
        "id": "4qYsA2yj6TRM"
      },
      "outputs": [],
      "source": [
        "model_loaded = tf.keras.models.load_model('model_all.h5')\n",
        "test_loss, test_acc = model_loaded.evaluate(X_test, y_test_labels, verbose=2)"
      ]
    },
    {
      "cell_type": "markdown",
      "metadata": {
        "id": "RY-X4hsB6zyc"
      },
      "source": [
        "Tensorflow - это про обработку нейросетей более сложным способом, с большей степенью интерактивности и воздействия на модель.\n",
        "\n",
        "Tensorflow позволяет обучать модели высокоуровнево, благодаря Keras, либо низкоуровнево через циклы, в которых нужно прописывать:\n",
        "1. Проход по батчу\n",
        "2. Предсказание модели на батче\n",
        "3. Подсчет ошибки\n",
        "4. Подсчет градиентов\n",
        "5. Обратный проход\n",
        "6. Логирование информации"
      ]
    },
    {
      "cell_type": "markdown",
      "metadata": {
        "id": "pZyy2UhoFzTB"
      },
      "source": [
        "# Домашнее задание\n",
        "\n",
        "  1. Постройте нейронную сеть (берем несложную полносвязную сеть, меняем число слоев, число нейронов, типы активации, тип оптимизатора) на датасете from sklearn.datasets import load_boston.\n",
        "  2. Постройте 10-15 вариантов разных нейронных сетей и сведите результаты их работы в таблицу.  Опишите, какого результата вы добились от нейросети? Что помогло вам улучшить ее точность?\n",
        "\n",
        "    "
      ]
    },
    {
      "cell_type": "markdown",
      "metadata": {
        "id": "oNZ6hZcMFzTE"
      },
      "source": [
        "# Дополнительные материалы\n",
        "\n",
        "1. https://www.tensorflow.org/api_docs - Документация\n",
        "2. https://www.tensorflow.org/tutorials/ - Туториалы"
      ]
    },
    {
      "cell_type": "markdown",
      "metadata": {
        "id": "Q64Z2Kr_FzTF"
      },
      "source": [
        "## Используемая литература\n",
        "\n",
        "Для подготовки данного методического пособия были использованы следующие ресурсы:\n",
        "<ol>\n",
        "    <li>https://www.tensorflow.org/</li>\n",
        "    <li>https://www.tensorflow.org/tutorials/keras/classification</li>\n",
        "    <li>Singh P., Manure A. - Learn TensorFlow 2.0 - 2020</li>\n",
        "    <li>Шакла Н. — Машинное обучение и TensorFlow 2019</li>\n",
        "    <li>Википедия</li>\n",
        "    \n",
        "</ol>"
      ]
    }
  ],
  "metadata": {
    "colab": {
      "provenance": []
    },
    "kernelspec": {
      "display_name": "Python 3",
      "name": "python3"
    },
    "language_info": {
      "codemirror_mode": {
        "name": "ipython",
        "version": 3
      },
      "file_extension": ".py",
      "mimetype": "text/x-python",
      "name": "python",
      "nbconvert_exporter": "python",
      "pygments_lexer": "ipython3",
      "version": "3.9.16"
    }
  },
  "nbformat": 4,
  "nbformat_minor": 0
}