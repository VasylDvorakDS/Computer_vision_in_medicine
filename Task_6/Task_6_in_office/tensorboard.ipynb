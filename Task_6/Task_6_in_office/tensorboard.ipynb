{
 "cells": [
  {
   "cell_type": "code",
   "execution_count": null,
   "id": "261bd480",
   "metadata": {
    "vscode": {
     "languageId": "plaintext"
    }
   },
   "outputs": [],
   "source": [
    "# Установка библиотек TensorFlow и TensorBoard в виртуальное окружение \"med\"\n",
    "\n",
    "\n",
    "!/Users/lmv/anaconda3/envs/med/bin/pip3 install tensorflow tensorboard\n",
    "\n",
    "\n",
    "# ! — означает выполнение команды в терминале прямо из Jupyter Notebook или IPython\n",
    "# /Users/lmv/anaconda3/envs/med/bin/pip3 — путь к pip3 внутри виртуального окружения \"med\"\n",
    "# install tensorflow tensorboard — установка двух библиотек:\n",
    "#  - tensorflow: фреймворк для машинного обучения и нейронных сетей\n",
    "#  - tensorboard: инструмент визуализации для отслеживания обучения моделей\n",
    "\n",
    "# Запуск TensorBoard для просмотра логов обучения модели\n",
    "\n",
    "\n",
    "!/Users/lmv/anaconda3/envs/med/bin/tensorboard --logdir=/Users/lmv/__MED__/__s6__/runs\n",
    "\n",
    "\n",
    "# /Users/lmv/anaconda3/envs/med/bin/tensorboard — путь к исполняемому файлу tensorboard в окружении \"med\"\n",
    "# --logdir=/Users/lmv/__MED__/__s6__/runs — параметр, указывающий папку, где хранятся логи обучения,\n",
    "# которые будут отображаться в веб-интерфейсе TensorBoard\n"
   ]
  }
 ],
 "metadata": {
  "language_info": {
   "name": "python"
  }
 },
 "nbformat": 4,
 "nbformat_minor": 5
}
